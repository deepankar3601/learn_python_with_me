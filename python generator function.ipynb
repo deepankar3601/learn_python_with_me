{
 "cells": [
  {
   "cell_type": "code",
   "execution_count": 35,
   "id": "846a63a0-43a1-4cc5-ab95-902a59910d07",
   "metadata": {},
   "outputs": [],
   "source": [
    "#Topics covered - Generator function and Lambda function\n",
    "#Generator Function :In Python, a generator is a function that returns an iterator that produces a sequence of values when iterated over."
   ]
  },
  {
   "cell_type": "code",
   "execution_count": 8,
   "id": "9e654645-093e-4bf5-95d1-f6c5e5591851",
   "metadata": {},
   "outputs": [],
   "source": [
    "#lets understand this with an example\n",
    "\n",
    "def test_fib(n): #creating a function for iterating fibonacci number\n",
    "    a , b = 0 , 1  #giving values for a and b\n",
    "    for i in range(n): #starting a  for loop\n",
    "        yield a #yield will create a generator function \n",
    "        a , b = b , a + b #giving condition"
   ]
  },
  {
   "cell_type": "code",
   "execution_count": 5,
   "id": "21577dfa-ec61-4e18-88e3-de2bbf207f30",
   "metadata": {},
   "outputs": [
    {
     "data": {
      "text/plain": [
       "<generator object test_fib at 0x7f73cc426180>"
      ]
     },
     "execution_count": 5,
     "metadata": {},
     "output_type": "execute_result"
    }
   ],
   "source": [
    "test_fib(10) #now when we call the function we got a generator object now we will run a for loop to extract the values"
   ]
  },
  {
   "cell_type": "code",
   "execution_count": 7,
   "id": "42d55f39-0ca1-4251-b3e6-38b34da8c371",
   "metadata": {},
   "outputs": [
    {
     "name": "stdout",
     "output_type": "stream",
     "text": [
      "0\n",
      "1\n",
      "1\n",
      "2\n",
      "3\n",
      "5\n",
      "8\n",
      "13\n",
      "21\n",
      "34\n"
     ]
    }
   ],
   "source": [
    "for i in test_fib(10):  #running a for loop to extracting the values\n",
    "    print(i)\n",
    "#we got the first 10 fibonacci numbers    "
   ]
  },
  {
   "cell_type": "code",
   "execution_count": 17,
   "id": "8d76f42a-364b-4db0-9ef8-2b46b2f6319b",
   "metadata": {},
   "outputs": [],
   "source": [
    "#another example\n",
    "\n",
    "def test_fib1(): #creating a function for iterating fibonacci number\n",
    "    a , b = 0 , 1  #giving values for a and b\n",
    "    while True: #giving a while condition\n",
    "        yield a #yield will create a generator function \n",
    "        a , b = b , a + b #giving condition"
   ]
  },
  {
   "cell_type": "code",
   "execution_count": 21,
   "id": "457dc7a1-db18-4ccb-8184-b494688fe44e",
   "metadata": {},
   "outputs": [],
   "source": [
    "fib = test_fib1() #making an object fib"
   ]
  },
  {
   "cell_type": "code",
   "execution_count": 19,
   "id": "67c22f4f-1b70-4ab7-b17f-876ea5d714a2",
   "metadata": {},
   "outputs": [
    {
     "data": {
      "text/plain": [
       "generator"
      ]
     },
     "execution_count": 19,
     "metadata": {},
     "output_type": "execute_result"
    }
   ],
   "source": [
    "type(fib) #the variable fib is a generator"
   ]
  },
  {
   "cell_type": "code",
   "execution_count": 22,
   "id": "a17c0e7d-2960-42a7-ae97-64486a3a5b26",
   "metadata": {},
   "outputs": [
    {
     "name": "stdout",
     "output_type": "stream",
     "text": [
      "0\n",
      "1\n",
      "1\n",
      "2\n",
      "3\n",
      "5\n",
      "8\n",
      "13\n",
      "21\n",
      "34\n"
     ]
    }
   ],
   "source": [
    "for i in range(10): #using for loop to iterate the values in fib\n",
    "    print(next(fib)) "
   ]
  },
  {
   "cell_type": "code",
   "execution_count": 32,
   "id": "c4faf246-5375-4a08-9de0-1ee444c16bae",
   "metadata": {},
   "outputs": [],
   "source": [
    "#another example\n",
    "\n",
    "def count(n): #creating a function count\n",
    "    count = 1 #giving condition count = 1\n",
    "    while count <= n : #running a while loop\n",
    "        yield count #using yield to create a generator function\n",
    "        count = count + 1 #increasing count by +1"
   ]
  },
  {
   "cell_type": "code",
   "execution_count": 33,
   "id": "0e51cb4a-9aa9-4cbd-bf76-a53de51e3a51",
   "metadata": {},
   "outputs": [],
   "source": [
    "co = count(5) #making an object as co for generator function"
   ]
  },
  {
   "cell_type": "code",
   "execution_count": 34,
   "id": "f740aef0-0ad2-491c-9aa0-4f005d5b3bd2",
   "metadata": {},
   "outputs": [
    {
     "name": "stdout",
     "output_type": "stream",
     "text": [
      "1\n",
      "2\n",
      "3\n",
      "4\n",
      "5\n"
     ]
    }
   ],
   "source": [
    "for i in co: #running for loop \n",
    "    print(i) #printing i "
   ]
  },
  {
   "cell_type": "code",
   "execution_count": 36,
   "id": "5b8c5608-7f5e-423e-b7bb-e4bfc5a20ad4",
   "metadata": {},
   "outputs": [],
   "source": [
    "#Lambda function - A lambda function is a small anonymous function.A lambda function can take any number of arguments, but can only have one expression."
   ]
  },
  {
   "cell_type": "code",
   "execution_count": 47,
   "id": "f401018e-7496-48c0-b189-fbed0b4a7f0c",
   "metadata": {},
   "outputs": [],
   "source": [
    "a = lambda a , b : a + b #lambda is a keyword. we are giving it a condition to do the sum of two numbers a and b"
   ]
  },
  {
   "cell_type": "code",
   "execution_count": 48,
   "id": "a00ce2b9-1750-4029-9fde-76d00770f09a",
   "metadata": {},
   "outputs": [
    {
     "data": {
      "text/plain": [
       "9"
      ]
     },
     "execution_count": 48,
     "metadata": {},
     "output_type": "execute_result"
    }
   ],
   "source": [
    "a(4 , 5)"
   ]
  },
  {
   "cell_type": "code",
   "execution_count": 55,
   "id": "f868c0c5-90d5-4a13-9f79-10efb67926a1",
   "metadata": {},
   "outputs": [],
   "source": [
    "#lets create a maximum functionj that will find the maximum between two numbers using lambda\n",
    "\n",
    "maximum = lambda x , y : x  if x > y else y"
   ]
  },
  {
   "cell_type": "code",
   "execution_count": 57,
   "id": "1255ec0d-3c2c-4b9f-8933-6bc61546651a",
   "metadata": {},
   "outputs": [
    {
     "data": {
      "text/plain": [
       "20"
      ]
     },
     "execution_count": 57,
     "metadata": {},
     "output_type": "execute_result"
    }
   ],
   "source": [
    "maximum(10,20) "
   ]
  },
  {
   "cell_type": "code",
   "execution_count": 59,
   "id": "e8008b00-c6d5-4166-9192-4f97688a1d47",
   "metadata": {},
   "outputs": [],
   "source": [
    "#lets create a lambda function to find the len of string\n",
    "p = 'python'"
   ]
  },
  {
   "cell_type": "code",
   "execution_count": 60,
   "id": "fa666d42-606a-429b-ab54-116a0a59cdc1",
   "metadata": {},
   "outputs": [],
   "source": [
    "length =  lambda x : len(x)"
   ]
  },
  {
   "cell_type": "code",
   "execution_count": 61,
   "id": "e8a4b6a2-4470-448f-b1a9-77035d200791",
   "metadata": {},
   "outputs": [
    {
     "data": {
      "text/plain": [
       "6"
      ]
     },
     "execution_count": 61,
     "metadata": {},
     "output_type": "execute_result"
    }
   ],
   "source": [
    "length(p)"
   ]
  },
  {
   "cell_type": "code",
   "execution_count": 62,
   "id": "1bea2fa1-def0-42aa-9465-d1dd6e96889a",
   "metadata": {},
   "outputs": [],
   "source": [
    "#lets create another lambda\n",
    "sum3 = lambda a, b ,c : a + b + c"
   ]
  },
  {
   "cell_type": "code",
   "execution_count": 63,
   "id": "19e7dc35-7d41-4ac1-b297-877400b8bdec",
   "metadata": {},
   "outputs": [
    {
     "data": {
      "text/plain": [
       "12"
      ]
     },
     "execution_count": 63,
     "metadata": {},
     "output_type": "execute_result"
    }
   ],
   "source": [
    "sum3(4,4,4)"
   ]
  },
  {
   "cell_type": "code",
   "execution_count": null,
   "id": "7d578ed7-a6bf-4a66-b121-abcdf07ff4a0",
   "metadata": {},
   "outputs": [],
   "source": []
  }
 ],
 "metadata": {
  "kernelspec": {
   "display_name": "Python 3 (ipykernel)",
   "language": "python",
   "name": "python3"
  },
  "language_info": {
   "codemirror_mode": {
    "name": "ipython",
    "version": 3
   },
   "file_extension": ".py",
   "mimetype": "text/x-python",
   "name": "python",
   "nbconvert_exporter": "python",
   "pygments_lexer": "ipython3",
   "version": "3.10.8"
  }
 },
 "nbformat": 4,
 "nbformat_minor": 5
}
