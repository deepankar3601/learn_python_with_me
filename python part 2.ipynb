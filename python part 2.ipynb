{
 "cells": [
  {
   "cell_type": "code",
   "execution_count": 2,
   "id": "d38dbc88-69b6-4388-a152-f9e9511ac6fe",
   "metadata": {},
   "outputs": [
    {
     "data": {
      "text/plain": [
       "'pyt'"
      ]
     },
     "execution_count": 2,
     "metadata": {},
     "output_type": "execute_result"
    }
   ],
   "source": [
    "#INDEX\n",
    "#The Python index() method helps you find the index position of an element or an item in a string of characters or a list of items.\n",
    "#python uses zero based indexing\n",
    "\n",
    "\n",
    "name = \"python\" #creating a variable of string\n",
    "name[0:3] #indexing the variable name from 0 to 3\n",
    "# here 0 is p , 1 is y and 2 is t"
   ]
  },
  {
   "cell_type": "code",
   "execution_count": 3,
   "id": "9d0cd88a-198d-4327-b968-a4d8a8831f49",
   "metadata": {},
   "outputs": [
    {
     "data": {
      "text/plain": [
       "'pto'"
      ]
     },
     "execution_count": 3,
     "metadata": {},
     "output_type": "execute_result"
    }
   ],
   "source": [
    "#now only we will take out pto from name variable\n",
    "name[0:6:2] # in this we jumped by 2 in indexing and by default it is one"
   ]
  },
  {
   "cell_type": "code",
   "execution_count": 4,
   "id": "39d0dbd3-f9fa-4dd1-b12e-32d77f4f2a57",
   "metadata": {},
   "outputs": [
    {
     "data": {
      "text/plain": [
       "'nohtyp'"
      ]
     },
     "execution_count": 4,
     "metadata": {},
     "output_type": "execute_result"
    }
   ],
   "source": [
    "#printing the name variable in reverse direction \n",
    "name[::-1] # here -1 taking it from backwards"
   ]
  },
  {
   "cell_type": "code",
   "execution_count": 5,
   "id": "47751773-4c0b-4063-b5a6-3dd7c3f1afcf",
   "metadata": {},
   "outputs": [
    {
     "data": {
      "text/plain": [
       "6"
      ]
     },
     "execution_count": 5,
     "metadata": {},
     "output_type": "execute_result"
    }
   ],
   "source": [
    "#LEN function:  The len() function returns the number of items in an object. When the object is a string, the len() function returns the number of characters in the string.\n",
    "len(name) #their are 6 characters in the string"
   ]
  },
  {
   "cell_type": "code",
   "execution_count": 6,
   "id": "3bc4666d-7eed-4bc6-a548-680ed19779c9",
   "metadata": {},
   "outputs": [],
   "source": [
    "#FIND function : The find() method finds the first occurrence of the specified value."
   ]
  },
  {
   "cell_type": "code",
   "execution_count": 7,
   "id": "c2ebe5dc-db80-429e-9e4e-0306b56f5cba",
   "metadata": {},
   "outputs": [
    {
     "data": {
      "text/plain": [
       "4"
      ]
     },
     "execution_count": 7,
     "metadata": {},
     "output_type": "execute_result"
    }
   ],
   "source": [
    "name.find('o') #o is in the 4 position"
   ]
  },
  {
   "cell_type": "code",
   "execution_count": 8,
   "id": "e1ef179b-04b2-4fa0-9917-6278bb94258f",
   "metadata": {},
   "outputs": [
    {
     "data": {
      "text/plain": [
       "1"
      ]
     },
     "execution_count": 8,
     "metadata": {},
     "output_type": "execute_result"
    }
   ],
   "source": [
    "#COUNT : The count() method returns the number of elements with the specified value.\n",
    "name.count('p') #their is only one p in the variable name"
   ]
  },
  {
   "cell_type": "code",
   "execution_count": 9,
   "id": "99f8c8df-2346-431f-8c26-b31d43d393db",
   "metadata": {},
   "outputs": [
    {
     "data": {
      "text/plain": [
       "'This Is A String'"
      ]
     },
     "execution_count": 9,
     "metadata": {},
     "output_type": "execute_result"
    }
   ],
   "source": [
    "#TITLE AND CAPITALIZE\n",
    "s1 = 'this is a string'\n",
    "s1.title()"
   ]
  },
  {
   "cell_type": "code",
   "execution_count": 10,
   "id": "e2052aeb-1830-49b4-a5b7-5f0104fa66ea",
   "metadata": {},
   "outputs": [
    {
     "data": {
      "text/plain": [
       "'This is a string'"
      ]
     },
     "execution_count": 10,
     "metadata": {},
     "output_type": "execute_result"
    }
   ],
   "source": [
    "s1.capitalize()"
   ]
  },
  {
   "cell_type": "code",
   "execution_count": 11,
   "id": "fdbb02ba-4705-4ebc-8fd6-b62605363cef",
   "metadata": {},
   "outputs": [
    {
     "data": {
      "text/plain": [
       "'this is a string in python'"
      ]
     },
     "execution_count": 11,
     "metadata": {},
     "output_type": "execute_result"
    }
   ],
   "source": [
    "#concatinating string with a variable of string\n",
    "s1 + ' in python' "
   ]
  },
  {
   "cell_type": "code",
   "execution_count": 12,
   "id": "36f96ce5-b31c-4bf1-8afa-efb37e9a63be",
   "metadata": {},
   "outputs": [
    {
     "ename": "TypeError",
     "evalue": "can only concatenate str (not \"int\") to str",
     "output_type": "error",
     "traceback": [
      "\u001b[0;31m---------------------------------------------------------------------------\u001b[0m",
      "\u001b[0;31mTypeError\u001b[0m                                 Traceback (most recent call last)",
      "Cell \u001b[0;32mIn[12], line 1\u001b[0m\n\u001b[0;32m----> 1\u001b[0m \u001b[43ms1\u001b[49m\u001b[43m \u001b[49m\u001b[38;5;241;43m+\u001b[39;49m\u001b[43m \u001b[49m\u001b[38;5;241;43m3\u001b[39;49m \u001b[38;5;66;03m# we cannot concatenate str with int\u001b[39;00m\n",
      "\u001b[0;31mTypeError\u001b[0m: can only concatenate str (not \"int\") to str"
     ]
    }
   ],
   "source": [
    "s1 + 3 # we cannot concatenate str with int"
   ]
  },
  {
   "cell_type": "code",
   "execution_count": 13,
   "id": "0368f1fd-e242-456d-9824-aca0dc8b95a2",
   "metadata": {},
   "outputs": [],
   "source": [
    "#LIST : Lists are used to store multiple items in a single variable. \n",
    "l1 = [25,4.5,45+5j,'data','python','hello',True] #creating a list"
   ]
  },
  {
   "cell_type": "code",
   "execution_count": 14,
   "id": "7b8ecfa7-5e7b-4e4c-ac4c-edc9397a640e",
   "metadata": {},
   "outputs": [
    {
     "data": {
      "text/plain": [
       "[25, 4.5, (45+5j), 'data', 'python', 'hello', True]"
      ]
     },
     "execution_count": 14,
     "metadata": {},
     "output_type": "execute_result"
    }
   ],
   "source": [
    "l1"
   ]
  },
  {
   "cell_type": "code",
   "execution_count": 15,
   "id": "8b12aadc-b2bc-4811-84ea-2f7a037502a5",
   "metadata": {},
   "outputs": [
    {
     "data": {
      "text/plain": [
       "[25, 4.5, (45+5j)]"
      ]
     },
     "execution_count": 15,
     "metadata": {},
     "output_type": "execute_result"
    }
   ],
   "source": [
    "#INDEXING IN LIST\n",
    "l1[0:3] #list will give the first three values"
   ]
  },
  {
   "cell_type": "code",
   "execution_count": 16,
   "id": "3d3e4b65-0c66-426d-a3a1-f9060c8eb096",
   "metadata": {},
   "outputs": [],
   "source": [
    "#APPEND FUNCTION\n",
    "l1.append(name) #appending name variable in the list"
   ]
  },
  {
   "cell_type": "code",
   "execution_count": 17,
   "id": "9a7c3e0e-7202-4544-b172-11b43e0604e9",
   "metadata": {},
   "outputs": [
    {
     "data": {
      "text/plain": [
       "[25, 4.5, (45+5j), 'data', 'python', 'hello', True, 'python']"
      ]
     },
     "execution_count": 17,
     "metadata": {},
     "output_type": "execute_result"
    }
   ],
   "source": [
    "l1"
   ]
  },
  {
   "cell_type": "code",
   "execution_count": 18,
   "id": "127c105f-28d6-488d-ba5a-815afabfb699",
   "metadata": {},
   "outputs": [],
   "source": [
    "#EXTEND FUNCTION: The extend() method adds the specified list elements (or any iterable) to the end of the current list.\n",
    "\n",
    "l1.extend('hello') "
   ]
  },
  {
   "cell_type": "code",
   "execution_count": 19,
   "id": "b653410e-ab27-4529-9f09-47f82555745d",
   "metadata": {},
   "outputs": [
    {
     "data": {
      "text/plain": [
       "[25,\n",
       " 4.5,\n",
       " (45+5j),\n",
       " 'data',\n",
       " 'python',\n",
       " 'hello',\n",
       " True,\n",
       " 'python',\n",
       " 'h',\n",
       " 'e',\n",
       " 'l',\n",
       " 'l',\n",
       " 'o']"
      ]
     },
     "execution_count": 19,
     "metadata": {},
     "output_type": "execute_result"
    }
   ],
   "source": [
    "l1 "
   ]
  },
  {
   "cell_type": "code",
   "execution_count": 20,
   "id": "99021abc-fb3e-4f25-8a19-e9cf110bf139",
   "metadata": {},
   "outputs": [],
   "source": [
    "#INSERT FUNCTION : The insert() method inserts the specified value at the specified position.\n",
    "lis = [3,4,5]"
   ]
  },
  {
   "cell_type": "code",
   "execution_count": 21,
   "id": "4fb5526a-0140-4a3c-8c5f-9c538da8ecde",
   "metadata": {},
   "outputs": [],
   "source": [
    "#inserting values in the list lis\n",
    "lis.insert(1,'pen') #inserting string pen in index 1"
   ]
  },
  {
   "cell_type": "code",
   "execution_count": 22,
   "id": "91e460f8-9d28-43f6-be1a-a30f043bd7e4",
   "metadata": {},
   "outputs": [
    {
     "data": {
      "text/plain": [
       "[3, 'pen', 4, 5]"
      ]
     },
     "execution_count": 22,
     "metadata": {},
     "output_type": "execute_result"
    }
   ],
   "source": [
    "lis"
   ]
  },
  {
   "cell_type": "code",
   "execution_count": 23,
   "id": "0b5c7988-9310-4301-a55f-00a8695a548b",
   "metadata": {},
   "outputs": [],
   "source": [
    "#SORT : The sort() method is a built-in Python method that, by default, sorts the list in ascending order\n",
    "\n",
    "so = [22,3,6,45,89,74,12,1,2,4,6] #creating a list\n",
    "so.sort() #using sort function"
   ]
  },
  {
   "cell_type": "code",
   "execution_count": 24,
   "id": "67d0af7f-aae0-44d2-b5ea-3734e144a023",
   "metadata": {},
   "outputs": [
    {
     "data": {
      "text/plain": [
       "[1, 2, 3, 4, 6, 6, 12, 22, 45, 74, 89]"
      ]
     },
     "execution_count": 24,
     "metadata": {},
     "output_type": "execute_result"
    }
   ],
   "source": [
    "so"
   ]
  },
  {
   "cell_type": "code",
   "execution_count": 25,
   "id": "026af27d-4735-4d70-9b7b-89b002ba09da",
   "metadata": {},
   "outputs": [],
   "source": [
    "#TUPLE : Python Tuple is a collection of objects separated by commas. In some ways, a tuple is similar to a list in terms of indexing, nested objects, and repetition but a tuple is immutable, unlike lists which are mutable\n",
    "\n",
    "tup = (23,2.4,12+5j,'yes','hello everyone',[1,2,3,4],True) #creating a tuple"
   ]
  },
  {
   "cell_type": "code",
   "execution_count": 26,
   "id": "e35ae7bc-7895-4ea6-a7d9-1454840aa238",
   "metadata": {},
   "outputs": [
    {
     "data": {
      "text/plain": [
       "(23, 2.4, (12+5j), 'yes', 'hello everyone', [1, 2, 3, 4], True)"
      ]
     },
     "execution_count": 26,
     "metadata": {},
     "output_type": "execute_result"
    }
   ],
   "source": [
    "tup"
   ]
  },
  {
   "cell_type": "code",
   "execution_count": 27,
   "id": "284c455d-3307-46f3-b527-605c2e370115",
   "metadata": {},
   "outputs": [
    {
     "data": {
      "text/plain": [
       "tuple"
      ]
     },
     "execution_count": 27,
     "metadata": {},
     "output_type": "execute_result"
    }
   ],
   "source": [
    "type(tup)"
   ]
  },
  {
   "cell_type": "code",
   "execution_count": 28,
   "id": "81a7ebc7-af69-4cba-a302-2710ae2af9f7",
   "metadata": {},
   "outputs": [
    {
     "data": {
      "text/plain": [
       "23"
      ]
     },
     "execution_count": 28,
     "metadata": {},
     "output_type": "execute_result"
    }
   ],
   "source": [
    "tup[0]"
   ]
  },
  {
   "cell_type": "code",
   "execution_count": 29,
   "id": "cb599f7b-0627-4962-88fa-67b320154893",
   "metadata": {},
   "outputs": [
    {
     "ename": "TypeError",
     "evalue": "'tuple' object does not support item assignment",
     "output_type": "error",
     "traceback": [
      "\u001b[0;31m---------------------------------------------------------------------------\u001b[0m",
      "\u001b[0;31mTypeError\u001b[0m                                 Traceback (most recent call last)",
      "Cell \u001b[0;32mIn[29], line 1\u001b[0m\n\u001b[0;32m----> 1\u001b[0m \u001b[43mtup\u001b[49m\u001b[43m[\u001b[49m\u001b[38;5;241;43m0\u001b[39;49m\u001b[43m]\u001b[49m \u001b[38;5;241m=\u001b[39m \u001b[38;5;124m'\u001b[39m\u001b[38;5;124mclock\u001b[39m\u001b[38;5;124m'\u001b[39m \u001b[38;5;66;03m#it is showing error because tuple is immutable\u001b[39;00m\n",
      "\u001b[0;31mTypeError\u001b[0m: 'tuple' object does not support item assignment"
     ]
    }
   ],
   "source": [
    "tup[0] = 'clock' #it is showing error because tuple is immutable"
   ]
  },
  {
   "cell_type": "code",
   "execution_count": 32,
   "id": "94292375-f532-4554-aecb-08af85e82498",
   "metadata": {},
   "outputs": [
    {
     "data": {
      "text/plain": [
       "(True, [1, 2, 3, 4], 'hello everyone', 'yes', (12+5j), 2.4, 23)"
      ]
     },
     "execution_count": 32,
     "metadata": {},
     "output_type": "execute_result"
    }
   ],
   "source": [
    "tup[::-1] #taking out the value from last"
   ]
  },
  {
   "cell_type": "code",
   "execution_count": 37,
   "id": "4c1a7708-c9ca-4098-aedd-eef028142170",
   "metadata": {},
   "outputs": [
    {
     "data": {
      "text/plain": [
       "3"
      ]
     },
     "execution_count": 37,
     "metadata": {},
     "output_type": "execute_result"
    }
   ],
   "source": [
    "tup.index('yes') #index of yes is 3"
   ]
  },
  {
   "cell_type": "markdown",
   "id": "3c60ae2f-6ac2-45e2-a30f-259b0db11b6a",
   "metadata": {},
   "source": [
    "SET. Sets are used to store multiple items in a single variable. Set is one of 4 built-in data types in Python used to store collections of data, the other 3 are List, Tuple, and Dictionary, all with different qualities and usage. A set is a collection which is unordered, unchangeable*, and unindexed.\n"
   ]
  },
  {
   "cell_type": "code",
   "execution_count": 38,
   "id": "ba479bb3-48d7-4683-ac6f-7ad25ba76aba",
   "metadata": {},
   "outputs": [],
   "source": [
    "se = {1,2,3,4,5,5,7,4,1,2,3,2,3,4,5,6} #creating a set"
   ]
  },
  {
   "cell_type": "code",
   "execution_count": 44,
   "id": "34fdbb7a-4c6b-4916-8374-0acba43d5b2a",
   "metadata": {},
   "outputs": [
    {
     "data": {
      "text/plain": [
       "{1, 2, 3, 4, 5, 6, 7}"
      ]
     },
     "execution_count": 44,
     "metadata": {},
     "output_type": "execute_result"
    }
   ],
   "source": [
    "se #set will remove duplicate values"
   ]
  },
  {
   "cell_type": "code",
   "execution_count": 45,
   "id": "01189fb1-8d0f-4a9a-b103-7459380b9bd3",
   "metadata": {},
   "outputs": [],
   "source": [
    "se1 = {1,2,3,1,2,4,5,415,(7,8,9,94)} #set takes tuple inside it because it is immutable"
   ]
  },
  {
   "cell_type": "code",
   "execution_count": 47,
   "id": "f575b124-428c-4102-b436-cc81f3965b8d",
   "metadata": {},
   "outputs": [
    {
     "data": {
      "text/plain": [
       "{(7, 8, 9, 94), 1, 2, 3, 4, 415, 5}"
      ]
     },
     "execution_count": 47,
     "metadata": {},
     "output_type": "execute_result"
    }
   ],
   "source": [
    "se1 #set builds an unordered collection of unique elements"
   ]
  },
  {
   "cell_type": "code",
   "execution_count": 54,
   "id": "818a685f-54d4-4f14-8018-48685d2a73b8",
   "metadata": {},
   "outputs": [],
   "source": [
    "se.add(9) #adding new elemets in set"
   ]
  },
  {
   "cell_type": "code",
   "execution_count": 55,
   "id": "f6cfd3dd-b0d4-4a49-927e-743b3ca60a29",
   "metadata": {},
   "outputs": [
    {
     "data": {
      "text/plain": [
       "{1, 2, 3, 4, 5, 6, 7, 9}"
      ]
     },
     "execution_count": 55,
     "metadata": {},
     "output_type": "execute_result"
    }
   ],
   "source": [
    "se"
   ]
  },
  {
   "cell_type": "code",
   "execution_count": 59,
   "id": "160b9ad2-ec5c-45a5-899c-abd840df3eb3",
   "metadata": {},
   "outputs": [],
   "source": [
    "se.remove(3)  #removing 3 from set se"
   ]
  },
  {
   "cell_type": "code",
   "execution_count": 60,
   "id": "325e6cd9-e688-4a12-91a6-6f772633d90f",
   "metadata": {},
   "outputs": [
    {
     "data": {
      "text/plain": [
       "{1, 2, 5, 6, 7, 9}"
      ]
     },
     "execution_count": 60,
     "metadata": {},
     "output_type": "execute_result"
    }
   ],
   "source": [
    "se"
   ]
  },
  {
   "cell_type": "code",
   "execution_count": null,
   "id": "cda2f48c-8b98-493e-98a6-8e0dd17ecf07",
   "metadata": {},
   "outputs": [],
   "source": []
  }
 ],
 "metadata": {
  "kernelspec": {
   "display_name": "Python 3 (ipykernel)",
   "language": "python",
   "name": "python3"
  },
  "language_info": {
   "codemirror_mode": {
    "name": "ipython",
    "version": 3
   },
   "file_extension": ".py",
   "mimetype": "text/x-python",
   "name": "python",
   "nbconvert_exporter": "python",
   "pygments_lexer": "ipython3",
   "version": "3.10.8"
  }
 },
 "nbformat": 4,
 "nbformat_minor": 5
}
