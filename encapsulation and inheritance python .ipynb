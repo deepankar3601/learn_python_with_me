{
 "cells": [
  {
   "cell_type": "code",
   "execution_count": 1,
   "id": "b1e6d91e-edc2-45b2-96a8-750c22f63a5c",
   "metadata": {},
   "outputs": [],
   "source": [
    "# Deepankar Chaudhary\n",
    "# Topics Covered : Encapsulation and Inheritance\n",
    "# Encapsulation : Encapsulation is a mechanism of wrapping the data (variables) and code acting on the data (methods) together as a single unit. In encapsulation, the variables of a class will be hidden from other classes, and can be accessed only through the methods of their current class."
   ]
  },
  {
   "cell_type": "code",
   "execution_count": 5,
   "id": "abbc5e23-4971-4890-90f7-40b5daf08e70",
   "metadata": {},
   "outputs": [],
   "source": [
    "class test: #lets create a class named test\n",
    "    \n",
    "    def __init__(self , a , b):  #putting two variable in the class a and b\n",
    "        self.a = a\n",
    "        self.b = b"
   ]
  },
  {
   "cell_type": "code",
   "execution_count": 7,
   "id": "0b74e594-4090-439c-b33b-b3139b2ac9ca",
   "metadata": {},
   "outputs": [],
   "source": [
    "t = test(2 , 4) #creating an object as t and putting class test in it"
   ]
  },
  {
   "cell_type": "code",
   "execution_count": 8,
   "id": "996eb3bd-becc-4c26-b2f5-68b422133b69",
   "metadata": {},
   "outputs": [
    {
     "data": {
      "text/plain": [
       "2"
      ]
     },
     "execution_count": 8,
     "metadata": {},
     "output_type": "execute_result"
    }
   ],
   "source": [
    "t.a #now when we call t it shows us the instances which are passed in the class to hide this instances we use encapsulation"
   ]
  },
  {
   "cell_type": "code",
   "execution_count": 21,
   "id": "468a3a8a-bc7f-40e1-b8dd-e434bc50d966",
   "metadata": {},
   "outputs": [],
   "source": [
    "# now lets make a class and encapsulate the instances of the class\n",
    "\n",
    "class car():\n",
    "    \n",
    "    def __init__(self , name , engine , manf , price):\n",
    "        self.__name = name\n",
    "        self.__engine = engine\n",
    "        self.__manf = manf\n",
    "        self.__price = price"
   ]
  },
  {
   "cell_type": "code",
   "execution_count": 42,
   "id": "6688173d-4306-4668-b13b-410d5de8c93a",
   "metadata": {},
   "outputs": [],
   "source": [
    "c =  car('tata' , '2000 cc' , '2023' , '50000') #now creating an object and inserting the values inside it"
   ]
  },
  {
   "cell_type": "code",
   "execution_count": 43,
   "id": "326619fb-0328-4ba0-8b4f-065324301010",
   "metadata": {},
   "outputs": [
    {
     "data": {
      "text/plain": [
       "'50000'"
      ]
     },
     "execution_count": 43,
     "metadata": {},
     "output_type": "execute_result"
    }
   ],
   "source": [
    "#now to get the values of the instances we have to _ and class name ie. _car + __ and instance name ie. __price. done as below\n",
    "c._car__price"
   ]
  },
  {
   "cell_type": "code",
   "execution_count": 44,
   "id": "95ab76e2-98ea-4509-889a-1db127278962",
   "metadata": {},
   "outputs": [],
   "source": [
    "#Setter And Getter :\n",
    "# getters are the methods which help access the private attributes or get the value of the private attributes and setters are the methods which help change or set the value of private attributes."
   ]
  },
  {
   "cell_type": "code",
   "execution_count": 49,
   "id": "b905ca75-d4f1-433f-8ee9-dea7cc33f5d0",
   "metadata": {},
   "outputs": [],
   "source": [
    "#now lets create a set and get method inside the same class\n",
    "\n",
    "class car():\n",
    "    \n",
    "    def __init__(self , name , engine , manf , price):\n",
    "        self.__name = name\n",
    "        self.__engine = engine\n",
    "        self.__manf = manf\n",
    "        self.__price = price\n",
    "        \n",
    "    def set_price(self , price): # using set method so that user can set price\n",
    "        self.__price = price\n",
    "        \n",
    "    def get_price(self): #using get price so that user can get the price that he entered\n",
    "        return self.__price"
   ]
  },
  {
   "cell_type": "code",
   "execution_count": 55,
   "id": "6330f6ea-77bd-44d1-a53a-b800b3ea6954",
   "metadata": {},
   "outputs": [],
   "source": [
    "#making an object c1 and entering the values and this values cannot be modified by the users\n",
    "c1 = car('tata' , '2000 cc' , '2023' , '70000') "
   ]
  },
  {
   "cell_type": "code",
   "execution_count": 56,
   "id": "6adb6a74-625a-41d7-8d15-295ac37b311d",
   "metadata": {},
   "outputs": [],
   "source": [
    "c1.set_price(50000) #giving the users to set the price"
   ]
  },
  {
   "cell_type": "code",
   "execution_count": 57,
   "id": "a1f1f491-276e-4506-aa22-5766ccf9fca2",
   "metadata": {},
   "outputs": [
    {
     "data": {
      "text/plain": [
       "50000"
      ]
     },
     "execution_count": 57,
     "metadata": {},
     "output_type": "execute_result"
    }
   ],
   "source": [
    "c1.get_price() #users can get only the price they entered without manipulating the original price"
   ]
  },
  {
   "cell_type": "code",
   "execution_count": 67,
   "id": "7c5ae5ad-082f-40b2-a4a6-995f95e32149",
   "metadata": {},
   "outputs": [],
   "source": [
    "#now lets make a class for bank account where we will deposit and withdraw and will show balance with get method\n",
    "\n",
    "class bank_acc: #creating a class name bank account\n",
    "    \n",
    "    def __init__(self , balance):\n",
    "        self.__balance =  balance #passing balance with __ so that it becomes private\n",
    "        \n",
    "    def deposit(self ,  dep_amt): # creating a func as deposit\n",
    "        self.__balance = self.__balance + dep_amt # deposit money will be added with balance\n",
    "        \n",
    "    def withdraw(self , with_amt): # craeting a function named withdraw\n",
    "        if self.__balance >= with_amt: #passing a condition with if\n",
    "            self.__balance = self.__balance - with_amt #reducing the amt with balance\n",
    "            return 'amount withdrawn'\n",
    "        else:\n",
    "            return 'not enough balance'\n",
    "    \n",
    "    def get_balance(self): #creating a function to see the balance for user\n",
    "        return self.__balance"
   ]
  },
  {
   "cell_type": "code",
   "execution_count": 70,
   "id": "656d227d-8d00-4ed0-861b-93b0d65ae554",
   "metadata": {},
   "outputs": [],
   "source": [
    "deepankar = bank_acc(20000) #making an object and passing value 20000"
   ]
  },
  {
   "cell_type": "code",
   "execution_count": 71,
   "id": "19f96af4-c3c3-41ba-baf2-3df01c023c42",
   "metadata": {},
   "outputs": [],
   "source": [
    "deepankar.deposit(2000) #depositing 2000 in the account"
   ]
  },
  {
   "cell_type": "code",
   "execution_count": 72,
   "id": "e1e28332-a285-45a8-af98-2380344b57ea",
   "metadata": {},
   "outputs": [
    {
     "data": {
      "text/plain": [
       "22000"
      ]
     },
     "execution_count": 72,
     "metadata": {},
     "output_type": "execute_result"
    }
   ],
   "source": [
    "deepankar.get_balance() #watching the balance with get "
   ]
  },
  {
   "cell_type": "code",
   "execution_count": 73,
   "id": "b42b91dc-4390-4373-a451-7db1cb5dedfc",
   "metadata": {},
   "outputs": [
    {
     "data": {
      "text/plain": [
       "'amount withdrawn'"
      ]
     },
     "execution_count": 73,
     "metadata": {},
     "output_type": "execute_result"
    }
   ],
   "source": [
    "deepankar.withdraw(4000) # withdrawing 4000 from the account"
   ]
  },
  {
   "cell_type": "code",
   "execution_count": 74,
   "id": "4a7a8339-7f37-44c6-ac40-0c7f89a9c097",
   "metadata": {},
   "outputs": [
    {
     "data": {
      "text/plain": [
       "18000"
      ]
     },
     "execution_count": 74,
     "metadata": {},
     "output_type": "execute_result"
    }
   ],
   "source": [
    "deepankar.get_balance() #watching the balance with get method"
   ]
  },
  {
   "cell_type": "code",
   "execution_count": 76,
   "id": "5e917a8c-feea-40a4-9808-9542434ba130",
   "metadata": {},
   "outputs": [
    {
     "data": {
      "text/plain": [
       "'not enough balance'"
      ]
     },
     "execution_count": 76,
     "metadata": {},
     "output_type": "execute_result"
    }
   ],
   "source": [
    "deepankar.withdraw(25000) #trying to withdraw an amount that is not available in the bank account"
   ]
  },
  {
   "cell_type": "code",
   "execution_count": 1,
   "id": "24e56a36-63b2-4046-86ff-5bdfaefe68bc",
   "metadata": {},
   "outputs": [],
   "source": [
    "#Inheritance : Inheritance allows us to define a class that inherits all the methods and properties from another class. Parent class is the class being inherited from, also called base class. Child class is the class that inherits from another class, also called derived class."
   ]
  },
  {
   "cell_type": "code",
   "execution_count": 6,
   "id": "db563ca0-f49f-48a8-8ef5-ef973bde026a",
   "metadata": {},
   "outputs": [],
   "source": [
    "#example of inheritance\n",
    "\n",
    "class parent: #creating a class called parent\n",
    "    \n",
    "    def msg(self): # make a function msg \n",
    "        return 'this is an example of inheritance' #it will return this statement"
   ]
  },
  {
   "cell_type": "code",
   "execution_count": 7,
   "id": "600c2de0-654b-4189-a2ad-a4e5761bab7a",
   "metadata": {},
   "outputs": [],
   "source": [
    "class child(parent): #making a class child and inheriting parent class\n",
    "    pass"
   ]
  },
  {
   "cell_type": "code",
   "execution_count": 8,
   "id": "ef737f6a-0d64-4b5e-8bda-280b5b21778e",
   "metadata": {},
   "outputs": [],
   "source": [
    "child_obj = child() #making an object of child class"
   ]
  },
  {
   "cell_type": "code",
   "execution_count": 12,
   "id": "bf0906c3-4d12-42ef-a196-b67cad814737",
   "metadata": {},
   "outputs": [
    {
     "data": {
      "text/plain": [
       "'this is an example of inheritance'"
      ]
     },
     "execution_count": 12,
     "metadata": {},
     "output_type": "execute_result"
    }
   ],
   "source": [
    "child_obj.msg() #through this object we can inherit the properties parent class"
   ]
  },
  {
   "cell_type": "code",
   "execution_count": 20,
   "id": "2bb2f560-7a1e-4ebf-855b-84ea43e1657f",
   "metadata": {},
   "outputs": [],
   "source": [
    "#lets take another example of inheritance\n",
    "\n",
    "class person: #creating a class person\n",
    "    \n",
    "    def __init__(self , fname , lname): # making a function passing elements\n",
    "        self.fname =  fname\n",
    "        self.lname = lname\n",
    "   \n",
    "    def printname(self): #making a function to print the above elements\n",
    "        return self.fname , self.lname"
   ]
  },
  {
   "cell_type": "code",
   "execution_count": 21,
   "id": "0bedcfba-8752-4967-9523-ac8de15d7d25",
   "metadata": {},
   "outputs": [],
   "source": [
    "n = person('Deepankar' , 'Chaudhary') #creating an object of class person"
   ]
  },
  {
   "cell_type": "code",
   "execution_count": 22,
   "id": "f993fd4b-a4d6-4fc7-ae98-a2101921ea42",
   "metadata": {},
   "outputs": [
    {
     "data": {
      "text/plain": [
       "('Deepankar', 'Chaudhary')"
      ]
     },
     "execution_count": 22,
     "metadata": {},
     "output_type": "execute_result"
    }
   ],
   "source": [
    "n.printname() #printing the name"
   ]
  },
  {
   "cell_type": "code",
   "execution_count": 23,
   "id": "7f6ca395-b45d-481a-81f2-00014dde952d",
   "metadata": {},
   "outputs": [],
   "source": [
    "class person1(person): #making another class person1 inheriting the property of class person \n",
    "    pass"
   ]
  },
  {
   "cell_type": "code",
   "execution_count": 24,
   "id": "3f2415fe-eb3c-4bb7-add2-c9534cc6fac0",
   "metadata": {},
   "outputs": [],
   "source": [
    "per1_obj = person1('Sudhanshu' , 'Kumar') #making object of class person1"
   ]
  },
  {
   "cell_type": "code",
   "execution_count": 25,
   "id": "d717ad7e-2a86-41a9-b303-68946939154d",
   "metadata": {},
   "outputs": [
    {
     "data": {
      "text/plain": [
       "('Sudhanshu', 'Kumar')"
      ]
     },
     "execution_count": 25,
     "metadata": {},
     "output_type": "execute_result"
    }
   ],
   "source": [
    "per1_obj.printname() #inheriting the properties of class person in class person 1 object"
   ]
  },
  {
   "cell_type": "code",
   "execution_count": 26,
   "id": "aeb2cb99-e332-4dd7-8453-9d65a9f7a9ae",
   "metadata": {},
   "outputs": [],
   "source": [
    "#Multilevel Inheritance : Multilevel Inheritance in Python is a type of Inheritance that involves inheriting a class that has already inherited some other class."
   ]
  },
  {
   "cell_type": "code",
   "execution_count": 43,
   "id": "586053ec-8b86-405e-af06-d9b2281fec3f",
   "metadata": {},
   "outputs": [],
   "source": [
    "class grandfather(): #maqking a class grandfather \n",
    "    def grand(self):\n",
    "        return 'this is the grandfather class'"
   ]
  },
  {
   "cell_type": "code",
   "execution_count": 44,
   "id": "394f7ac0-162b-4645-9599-bb29082c87a0",
   "metadata": {},
   "outputs": [],
   "source": [
    "class father(grandfather): #making a class father and inheriting class grandfather in it\n",
    "    def father(self):\n",
    "        return 'this is a father class'"
   ]
  },
  {
   "cell_type": "code",
   "execution_count": 45,
   "id": "76c22a56-e255-4fe2-84b5-f0abafaf36a4",
   "metadata": {},
   "outputs": [],
   "source": [
    "class son(father): #making a class son and inheriting the class grandfather and father\n",
    "    pass"
   ]
  },
  {
   "cell_type": "code",
   "execution_count": 39,
   "id": "46b2fddf-5bac-4bbb-b36f-59381e5bcab1",
   "metadata": {},
   "outputs": [],
   "source": [
    "#making an object of class son\n",
    "son_obj = son()"
   ]
  },
  {
   "cell_type": "code",
   "execution_count": 46,
   "id": "525eefa3-2439-4103-88f9-11808d2ee9cc",
   "metadata": {},
   "outputs": [
    {
     "data": {
      "text/plain": [
       "'this is the grandfather class'"
      ]
     },
     "execution_count": 46,
     "metadata": {},
     "output_type": "execute_result"
    }
   ],
   "source": [
    "#the object of the class son can inherit the properties of both the class\n",
    "#this is an example of multilevel inheritance\n",
    "son_obj.grand()"
   ]
  },
  {
   "cell_type": "code",
   "execution_count": 47,
   "id": "1fcab93a-acf4-49ca-99d7-560e8eff80f9",
   "metadata": {},
   "outputs": [
    {
     "data": {
      "text/plain": [
       "'this is a father class'"
      ]
     },
     "execution_count": 47,
     "metadata": {},
     "output_type": "execute_result"
    }
   ],
   "source": [
    "son_obj.father()"
   ]
  },
  {
   "cell_type": "code",
   "execution_count": 48,
   "id": "53d79cf5-b0a8-4a95-9c19-f46c1a792158",
   "metadata": {},
   "outputs": [],
   "source": [
    "#Multiple Inheritance: Multiple Inheritance in python is a well-known feature that is supported by all the major object-oriented programming languages. It can be described as a process where the child class or object inherits the methods and attributes from one or more parent classes."
   ]
  },
  {
   "cell_type": "code",
   "execution_count": 55,
   "id": "4edfc35d-5a50-4b90-8fe2-f7ed18fc056e",
   "metadata": {},
   "outputs": [],
   "source": [
    "#lets understand this with an example\n",
    "\n",
    "class mother(): #creating a class mother\n",
    "    def mot_func(self): #making a function\n",
    "        return 'this is a function from mother class'"
   ]
  },
  {
   "cell_type": "code",
   "execution_count": 56,
   "id": "667f73c9-1454-4fdf-9ebc-13ad51b3e4f1",
   "metadata": {},
   "outputs": [],
   "source": [
    "class father(): #creating a class father\n",
    "    def fat_func(self): #making a function\n",
    "        return 'this is a function from father class'"
   ]
  },
  {
   "cell_type": "code",
   "execution_count": 57,
   "id": "726de53e-4c55-4b8d-afdd-af8ca3c865b4",
   "metadata": {},
   "outputs": [],
   "source": [
    "class child(mother , father): #making a class child that will inherit property from both class mother and father\n",
    "    pass"
   ]
  },
  {
   "cell_type": "code",
   "execution_count": 58,
   "id": "7b48508d-e76d-4178-801f-aa14d975babb",
   "metadata": {},
   "outputs": [],
   "source": [
    "chi_obj = child() #creating an object of child class as chi_obj"
   ]
  },
  {
   "cell_type": "code",
   "execution_count": 59,
   "id": "0255c86a-a0f4-4321-95da-a924de259f85",
   "metadata": {},
   "outputs": [
    {
     "data": {
      "text/plain": [
       "'this is a function from father class'"
      ]
     },
     "execution_count": 59,
     "metadata": {},
     "output_type": "execute_result"
    }
   ],
   "source": [
    "chi_obj.fat_func() #inheriting father class function in child class object"
   ]
  },
  {
   "cell_type": "code",
   "execution_count": 60,
   "id": "fb4aea24-b176-412b-918c-be1b13f9daf9",
   "metadata": {},
   "outputs": [
    {
     "data": {
      "text/plain": [
       "'this is a function from mother class'"
      ]
     },
     "execution_count": 60,
     "metadata": {},
     "output_type": "execute_result"
    }
   ],
   "source": [
    "chi_obj.mot_func() #inheriting mother class function in child class object"
   ]
  },
  {
   "cell_type": "code",
   "execution_count": null,
   "id": "c761a2c6-b3f3-45f7-beac-dd851d8c439e",
   "metadata": {},
   "outputs": [],
   "source": []
  }
 ],
 "metadata": {
  "kernelspec": {
   "display_name": "Python 3 (ipykernel)",
   "language": "python",
   "name": "python3"
  },
  "language_info": {
   "codemirror_mode": {
    "name": "ipython",
    "version": 3
   },
   "file_extension": ".py",
   "mimetype": "text/x-python",
   "name": "python",
   "nbconvert_exporter": "python",
   "pygments_lexer": "ipython3",
   "version": "3.10.8"
  }
 },
 "nbformat": 4,
 "nbformat_minor": 5
}
