{
 "cells": [
  {
   "cell_type": "code",
   "execution_count": 1,
   "id": "dc016adb-ae12-4ded-97ac-c8bb694ffd9a",
   "metadata": {},
   "outputs": [],
   "source": [
    "#Topic While Loop\n",
    "#Python while loop is used to run a block code until a certain condition is met. The syntax of while loop is: while condition: # body of while loop. Here, A while loop evaluates the condition. If the condition evaluates to True , the code inside the while loop is executed."
   ]
  },
  {
   "cell_type": "code",
   "execution_count": 5,
   "id": "478a6285-c34e-4153-8989-f2338ec6babf",
   "metadata": {},
   "outputs": [
    {
     "name": "stdout",
     "output_type": "stream",
     "text": [
      "1\n",
      "2\n",
      "3\n",
      "4\n",
      "5\n",
      "6\n",
      "7\n",
      "8\n",
      "9\n",
      "10\n"
     ]
    }
   ],
   "source": [
    "a = 1 # putting the value of variable a 1\n",
    "\n",
    "while a <= 10: #giving condition for while, while a is lesser than or equal to 10\n",
    "    print(a) #printing a\n",
    "    a = a + 1 # incrementing a qith +1    \n",
    "#loop will run until the while condition doesn't become false \n",
    "#while loop will run until the given condition is true"
   ]
  },
  {
   "cell_type": "code",
   "execution_count": 7,
   "id": "b75a4abd-0b1b-4d1d-a6e4-8a09888d01d0",
   "metadata": {},
   "outputs": [
    {
     "name": "stdin",
     "output_type": "stream",
     "text": [
      "enter number  5\n"
     ]
    },
    {
     "data": {
      "text/plain": [
       "15"
      ]
     },
     "execution_count": 7,
     "metadata": {},
     "output_type": "execute_result"
    }
   ],
   "source": [
    "#sum up the number till user input\n",
    "\n",
    "num = int(input('enter number '))\n",
    "starting_point = 0 #it will start from 0\n",
    "counter = 1 #counter is 1\n",
    "\n",
    "while counter <= num: #giving condition for loop\n",
    "    starting_point = starting_point + counter \n",
    "    counter = counter + 1 #\n",
    "starting_point    "
   ]
  },
  {
   "cell_type": "code",
   "execution_count": 2,
   "id": "51472c57-2214-48ab-a32b-7bb86fb49b23",
   "metadata": {},
   "outputs": [
    {
     "name": "stdin",
     "output_type": "stream",
     "text": [
      "enter your number 5\n"
     ]
    },
    {
     "data": {
      "text/plain": [
       "120"
      ]
     },
     "execution_count": 2,
     "metadata": {},
     "output_type": "execute_result"
    }
   ],
   "source": [
    "#finding factorial of a number with while loop\n",
    "number = int(input('enter your number'))\n",
    "factorial = 1\n",
    "while number > 0:\n",
    "    factorial = factorial*number\n",
    "    number = number - 1\n",
    "factorial    \n"
   ]
  },
  {
   "cell_type": "code",
   "execution_count": 4,
   "id": "06c8b0c2-8a1c-48f7-99a1-3bab68aceb6a",
   "metadata": {},
   "outputs": [
    {
     "name": "stdin",
     "output_type": "stream",
     "text": [
      "enter number 10\n"
     ]
    },
    {
     "name": "stdout",
     "output_type": "stream",
     "text": [
      "0\n",
      "1\n",
      "1\n",
      "2\n",
      "3\n",
      "5\n",
      "8\n",
      "13\n",
      "21\n",
      "34\n"
     ]
    }
   ],
   "source": [
    "#extracting fibonnaci number with while loop\n",
    "number = int(input('enter number'))\n",
    "a,b = 0 , 1\n",
    "counter = 0\n",
    "while counter < number:\n",
    "    print(a)\n",
    "    c = a+b\n",
    "    a = b\n",
    "    b = c\n",
    "    counter = counter + 1\n",
    "    "
   ]
  },
  {
   "cell_type": "code",
   "execution_count": 5,
   "id": "c18092c9-9bd3-41fa-b1a3-d806a5f5304d",
   "metadata": {},
   "outputs": [
    {
     "name": "stdin",
     "output_type": "stream",
     "text": [
      "enter your word for reversal abcdef\n"
     ]
    },
    {
     "name": "stdout",
     "output_type": "stream",
     "text": [
      "fedcba\n"
     ]
    }
   ],
   "source": [
    "#reversing a string with while loop\n",
    "word = input('enter your word for reversal')\n",
    "reverse= \"\"\n",
    "length= len(word)\n",
    "\n",
    "while length > 0:\n",
    "    reverse = reverse + word[length -1]\n",
    "    length = length - 1\n",
    "print(reverse)    "
   ]
  },
  {
   "cell_type": "code",
   "execution_count": 7,
   "id": "30247264-e4b2-45bc-b0ee-f9d02cf73114",
   "metadata": {},
   "outputs": [
    {
     "name": "stdin",
     "output_type": "stream",
     "text": [
      "enter your numbers 2\n"
     ]
    },
    {
     "name": "stdout",
     "output_type": "stream",
     "text": [
      "2 * 1 = 2\n",
      "2 * 2 = 4\n",
      "2 * 3 = 6\n",
      "2 * 4 = 8\n",
      "2 * 5 = 10\n",
      "2 * 6 = 12\n",
      "2 * 7 = 14\n",
      "2 * 8 = 16\n",
      "2 * 9 = 18\n",
      "2 * 10 = 20\n"
     ]
    }
   ],
   "source": [
    "#print table of numbers\n",
    "\n",
    "num = int(input('enter your numbers'))\n",
    "i = 1\n",
    "\n",
    "while i <= 10:\n",
    "    result = num * i\n",
    "    print(num ,'*', i , '=', result)\n",
    "    i = i+1"
   ]
  },
  {
   "cell_type": "code",
   "execution_count": 9,
   "id": "8f795242-f905-4e06-a3ff-f4809fd8a33a",
   "metadata": {},
   "outputs": [
    {
     "name": "stdout",
     "output_type": "stream",
     "text": [
      "1\n",
      "2\n",
      "3\n",
      "4\n",
      "5\n",
      "this will execute once while loop with execute completely\n"
     ]
    }
   ],
   "source": [
    "#while with else\n",
    "n = 5\n",
    "i = 1\n",
    "\n",
    "while i <= 5:\n",
    "    print(i)\n",
    "    i = i + 1\n",
    "else:\n",
    "    print('this will execute once while loop with execute completely')"
   ]
  },
  {
   "cell_type": "code",
   "execution_count": 10,
   "id": "76e0088c-8f36-44e2-a8ea-6b0eb7327e28",
   "metadata": {},
   "outputs": [],
   "source": [
    "# list Comprehension : Comprehensions in Python are used to generate new sequences based on existing sequences.\n",
    "#lets understand this with an example"
   ]
  },
  {
   "cell_type": "code",
   "execution_count": 12,
   "id": "d83b6ede-196a-4752-9a0b-86b57f56605c",
   "metadata": {},
   "outputs": [
    {
     "data": {
      "text/plain": [
       "[1, 4, 9, 16, 25, 36, 49, 64]"
      ]
     },
     "execution_count": 12,
     "metadata": {},
     "output_type": "execute_result"
    }
   ],
   "source": [
    "l = [1,2,3,4,5,6,7,8] #we have a list and we want a new list where we want to sq of the values present in l\n",
    "[i**2 for i in l] #comprehension code"
   ]
  },
  {
   "cell_type": "code",
   "execution_count": 14,
   "id": "064a8030-79cb-400f-b4a2-75edc9ab416f",
   "metadata": {},
   "outputs": [
    {
     "data": {
      "text/plain": [
       "[2, 4, 6, 8]"
      ]
     },
     "execution_count": 14,
     "metadata": {},
     "output_type": "execute_result"
    }
   ],
   "source": [
    "#lets take another example now we have to take out even numbers for list l\n",
    "[i for i in l if i % 2 == 0] #comprehenson code"
   ]
  },
  {
   "cell_type": "code",
   "execution_count": 15,
   "id": "3f634bbb-c33a-48fd-b67f-b75f1f15f0dc",
   "metadata": {},
   "outputs": [],
   "source": [
    "#another ex of comprehension\n",
    "l1 = ['python','linkedin','hello','world']"
   ]
  },
  {
   "cell_type": "code",
   "execution_count": 17,
   "id": "19fa5265-2d4f-492f-9ef4-7ddfafece4b3",
   "metadata": {},
   "outputs": [
    {
     "data": {
      "text/plain": [
       "['PYTHON', 'LINKEDIN', 'HELLO', 'WORLD']"
      ]
     },
     "execution_count": 17,
     "metadata": {},
     "output_type": "execute_result"
    }
   ],
   "source": [
    "#now we want to capitalize the value in l1\n",
    "[i.upper() for i in l1]"
   ]
  },
  {
   "cell_type": "code",
   "execution_count": 18,
   "id": "fd4aba76-78b1-4bdb-8fa7-aa73d2431d60",
   "metadata": {},
   "outputs": [],
   "source": [
    "#tuple comprehension\n",
    "#it is done same as list \n"
   ]
  },
  {
   "cell_type": "code",
   "execution_count": 19,
   "id": "d813a0dd-4159-4590-9e0f-282aa0632fc7",
   "metadata": {},
   "outputs": [
    {
     "data": {
      "text/plain": [
       "[1, 2, 3, 4, 5, 6, 7, 8]"
      ]
     },
     "execution_count": 19,
     "metadata": {},
     "output_type": "execute_result"
    }
   ],
   "source": [
    "l"
   ]
  },
  {
   "cell_type": "code",
   "execution_count": 20,
   "id": "35557cf8-00a1-4d07-89a4-31d354676006",
   "metadata": {},
   "outputs": [
    {
     "data": {
      "text/plain": [
       "<generator object <genexpr> at 0x7fb3486319a0>"
      ]
     },
     "execution_count": 20,
     "metadata": {},
     "output_type": "execute_result"
    }
   ],
   "source": [
    "#square the numbers in list l\n",
    "(i**2 for i in l) "
   ]
  },
  {
   "cell_type": "code",
   "execution_count": 22,
   "id": "f71ceb1a-e417-4cbf-8106-49c8cdf45c2f",
   "metadata": {},
   "outputs": [
    {
     "data": {
      "text/plain": [
       "[1, 4, 9, 16, 25, 36, 49, 64]"
      ]
     },
     "execution_count": 22,
     "metadata": {},
     "output_type": "execute_result"
    }
   ],
   "source": [
    "##we got a genrator, we can iterate the values with for loop or we can simply call list\n",
    "list(i**2 for i in l) #like this"
   ]
  },
  {
   "cell_type": "code",
   "execution_count": 23,
   "id": "505dceb1-a443-4724-9bfb-c20c7363b082",
   "metadata": {},
   "outputs": [],
   "source": [
    "#dictionary comprehension\n",
    "#lets make a dictionary first\n",
    "\n",
    "d ={'key1':2,\"key2\":4,'key3':6,'key4':8}"
   ]
  },
  {
   "cell_type": "code",
   "execution_count": 30,
   "id": "c9a8948d-aeae-4cad-9ced-ee31535f8c53",
   "metadata": {},
   "outputs": [
    {
     "data": {
      "text/plain": [
       "{'key1': 4, 'key2': 16, 'key3': 36, 'key4': 64}"
      ]
     },
     "execution_count": 30,
     "metadata": {},
     "output_type": "execute_result"
    }
   ],
   "source": [
    "#comprehnsion code\n",
    "{k:v**2 for k,v in d.items() }"
   ]
  },
  {
   "cell_type": "code",
   "execution_count": 34,
   "id": "71c5d423-6310-4b6f-83ea-0b6e8a9f5fd9",
   "metadata": {},
   "outputs": [
    {
     "data": {
      "text/plain": [
       "{'key2': 4, 'key3': 6, 'key4': 8}"
      ]
     },
     "execution_count": 34,
     "metadata": {},
     "output_type": "execute_result"
    }
   ],
   "source": [
    "#lets iterate only those values which are greater than 2 in the dictionary\n",
    "\n",
    "{k:v for k,v in d.items() if v > 2} "
   ]
  },
  {
   "cell_type": "code",
   "execution_count": null,
   "id": "839f5ab0-0684-4d3d-ba04-5e5fd11f43cb",
   "metadata": {},
   "outputs": [],
   "source": []
  }
 ],
 "metadata": {
  "kernelspec": {
   "display_name": "Python 3 (ipykernel)",
   "language": "python",
   "name": "python3"
  },
  "language_info": {
   "codemirror_mode": {
    "name": "ipython",
    "version": 3
   },
   "file_extension": ".py",
   "mimetype": "text/x-python",
   "name": "python",
   "nbconvert_exporter": "python",
   "pygments_lexer": "ipython3",
   "version": "3.10.8"
  }
 },
 "nbformat": 4,
 "nbformat_minor": 5
}
