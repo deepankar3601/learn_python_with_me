{
 "cells": [
  {
   "cell_type": "code",
   "execution_count": 3,
   "id": "3b3cdc8b-0b12-41d3-b363-8f45e255cfdd",
   "metadata": {},
   "outputs": [],
   "source": [
    "#Deepankar Chaudhary\n",
    "#Topics Covered - Map , Reduce and Filter\n",
    "#The map() function or map and filter in Python (also called as map filter in Python) is a higher-order function. \n",
    "#The filter() function is used to generate an output list of values that return true when the function is called.\n",
    "#The reduce() function applies a provided function to ‘iterables’ and returns a single value, as the name implies."
   ]
  },
  {
   "cell_type": "code",
   "execution_count": 5,
   "id": "ed0c0188-8433-4e12-8626-be0528a585db",
   "metadata": {},
   "outputs": [],
   "source": [
    "l = [2,3,4,5,6] #creating a list"
   ]
  },
  {
   "cell_type": "code",
   "execution_count": 6,
   "id": "dd4806fb-1afd-4ccd-ad42-7da6ef318f08",
   "metadata": {},
   "outputs": [],
   "source": [
    "#now lets square the items in the list\n",
    "#we will create a function first\n",
    "def sqr(x):\n",
    "    return x**2"
   ]
  },
  {
   "cell_type": "code",
   "execution_count": 16,
   "id": "1cf7bbb7-d488-457f-b17f-690a7c03d288",
   "metadata": {},
   "outputs": [
    {
     "data": {
      "text/plain": [
       "<map at 0x7f341c624e80>"
      ]
     },
     "execution_count": 16,
     "metadata": {},
     "output_type": "execute_result"
    }
   ],
   "source": [
    "map(sqr , l) #now we will call map function, and it takes two parameters(func and iterables). it will give us a generator object"
   ]
  },
  {
   "cell_type": "code",
   "execution_count": 17,
   "id": "7091b417-f731-4048-a333-6b424c7ad48b",
   "metadata": {},
   "outputs": [
    {
     "data": {
      "text/plain": [
       "[4, 9, 16, 25, 36]"
      ]
     },
     "execution_count": 17,
     "metadata": {},
     "output_type": "execute_result"
    }
   ],
   "source": [
    "list(map(sqr , l)) #we will wrap it in list to get the values"
   ]
  },
  {
   "cell_type": "code",
   "execution_count": 18,
   "id": "695beb07-b140-43a8-a4cf-1c4a44a9b2dc",
   "metadata": {},
   "outputs": [
    {
     "data": {
      "text/plain": [
       "[4, 9, 16, 25, 36]"
      ]
     },
     "execution_count": 18,
     "metadata": {},
     "output_type": "execute_result"
    }
   ],
   "source": [
    "#now lets do it with lambda function (which is an inbuilt function)\n",
    "\n",
    "list(map(lambda x : x**2 , l))"
   ]
  },
  {
   "cell_type": "code",
   "execution_count": 20,
   "id": "7b1c8cad-0a1a-4884-b9ec-34302518f523",
   "metadata": {},
   "outputs": [],
   "source": [
    "l1 = [2,4,5,6,7]\n",
    "l2 = [6,7,8,9,4] #creating two list l1 and l2\n",
    "#now lets sum these two list index wise eg. 2+6 , 4+7 ,5+8 , 6+9, 7+4."
   ]
  },
  {
   "cell_type": "code",
   "execution_count": 21,
   "id": "0827bcfe-ab49-4df4-947c-49d4a35bc9ca",
   "metadata": {},
   "outputs": [
    {
     "data": {
      "text/plain": [
       "[8, 11, 13, 15, 11]"
      ]
     },
     "execution_count": 21,
     "metadata": {},
     "output_type": "execute_result"
    }
   ],
   "source": [
    "list(map(lambda x , y : x+y , l1 ,l2))"
   ]
  },
  {
   "cell_type": "code",
   "execution_count": 26,
   "id": "c2226477-1f28-4429-9bd0-50440161d111",
   "metadata": {},
   "outputs": [],
   "source": [
    "#now lets change the character of string p into uppercase using map and lambda\n",
    "p = 'python'"
   ]
  },
  {
   "cell_type": "code",
   "execution_count": 28,
   "id": "0c60f8fe-b183-45e2-9d57-df73f9c4bfdc",
   "metadata": {},
   "outputs": [
    {
     "data": {
      "text/plain": [
       "['P', 'Y', 'T', 'H', 'O', 'N']"
      ]
     },
     "execution_count": 28,
     "metadata": {},
     "output_type": "execute_result"
    }
   ],
   "source": [
    "list(map(lambda x : x.upper() , p))"
   ]
  },
  {
   "cell_type": "code",
   "execution_count": 29,
   "id": "1f298ada-64f2-4898-a93c-5c5b982b8857",
   "metadata": {},
   "outputs": [],
   "source": [
    "#Reduce : before using reduce we have to import reduce\n",
    "\n",
    "from functools import reduce"
   ]
  },
  {
   "cell_type": "code",
   "execution_count": 31,
   "id": "222696fc-4ab4-4194-9c52-8f7668573200",
   "metadata": {},
   "outputs": [],
   "source": [
    "l = [1,2,3,4,5,6] #creating a list"
   ]
  },
  {
   "cell_type": "code",
   "execution_count": 33,
   "id": "9b00bde2-6a27-478f-9c19-d211fb8947a4",
   "metadata": {},
   "outputs": [
    {
     "data": {
      "text/plain": [
       "21"
      ]
     },
     "execution_count": 33,
     "metadata": {},
     "output_type": "execute_result"
    }
   ],
   "source": [
    "reduce(lambda x , y : x + y , l) #by using reduce we will sum the elements in list l"
   ]
  },
  {
   "cell_type": "code",
   "execution_count": 35,
   "id": "0931bbfa-b620-4100-b8fd-9770d6efb3b4",
   "metadata": {},
   "outputs": [
    {
     "ename": "TypeError",
     "evalue": "<lambda>() missing 1 required positional argument: 'z'",
     "output_type": "error",
     "traceback": [
      "\u001b[0;31m---------------------------------------------------------------------------\u001b[0m",
      "\u001b[0;31mTypeError\u001b[0m                                 Traceback (most recent call last)",
      "Cell \u001b[0;32mIn[35], line 1\u001b[0m\n\u001b[0;32m----> 1\u001b[0m \u001b[43mreduce\u001b[49m\u001b[43m(\u001b[49m\u001b[38;5;28;43;01mlambda\u001b[39;49;00m\u001b[43m \u001b[49m\u001b[43mx\u001b[49m\u001b[43m \u001b[49m\u001b[43m,\u001b[49m\u001b[43m \u001b[49m\u001b[43my\u001b[49m\u001b[43m \u001b[49m\u001b[43m,\u001b[49m\u001b[43m \u001b[49m\u001b[43mz\u001b[49m\u001b[43m \u001b[49m\u001b[43m:\u001b[49m\u001b[43m \u001b[49m\u001b[43mx\u001b[49m\u001b[43m \u001b[49m\u001b[38;5;241;43m+\u001b[39;49m\u001b[43m \u001b[49m\u001b[43my\u001b[49m\u001b[43m \u001b[49m\u001b[38;5;241;43m+\u001b[39;49m\u001b[43m \u001b[49m\u001b[43mz\u001b[49m\u001b[43m \u001b[49m\u001b[43m,\u001b[49m\u001b[43m \u001b[49m\u001b[43ml\u001b[49m\u001b[43m)\u001b[49m \u001b[38;5;66;03m#while using reduce we should always try to give only 2 parameters because 3 parameters are not always true\u001b[39;00m\n",
      "\u001b[0;31mTypeError\u001b[0m: <lambda>() missing 1 required positional argument: 'z'"
     ]
    }
   ],
   "source": [
    "reduce(lambda x , y , z : x + y + z , l)\n",
    "#while using reduce we should always try to give only 2 parameters because 3 parameters are not always true."
   ]
  },
  {
   "cell_type": "code",
   "execution_count": 36,
   "id": "84d8ec6f-445a-41b4-ba3c-510f13a3616b",
   "metadata": {},
   "outputs": [],
   "source": [
    "#now through reduce lets find the biggest element in the list below\n",
    "l1 = [22,33,12,65,84,23,45,78,55]"
   ]
  },
  {
   "cell_type": "code",
   "execution_count": 40,
   "id": "2c2eb1bd-840b-4fce-9d6d-93910395a655",
   "metadata": {},
   "outputs": [
    {
     "data": {
      "text/plain": [
       "84"
      ]
     },
     "execution_count": 40,
     "metadata": {},
     "output_type": "execute_result"
    }
   ],
   "source": [
    "reduce(lambda x , y : x if x > y  else y , l1 ) \n",
    "#in this example it gave us the biggest value in the list l1"
   ]
  },
  {
   "cell_type": "code",
   "execution_count": 41,
   "id": "32bbfa04-8c65-4e5b-8683-519e5ab087ae",
   "metadata": {},
   "outputs": [
    {
     "data": {
      "text/plain": [
       "[1, 2, 3, 4, 5, 6]"
      ]
     },
     "execution_count": 41,
     "metadata": {},
     "output_type": "execute_result"
    }
   ],
   "source": [
    "#filter\n",
    "l"
   ]
  },
  {
   "cell_type": "code",
   "execution_count": 44,
   "id": "4f210dc7-fc45-4b05-a97b-5e4ec679e001",
   "metadata": {},
   "outputs": [
    {
     "data": {
      "text/plain": [
       "[2, 4, 6]"
      ]
     },
     "execution_count": 44,
     "metadata": {},
     "output_type": "execute_result"
    }
   ],
   "source": [
    "#lets find even number with filter function in list l\n",
    "list(filter(lambda x : x % 2 == 0 , l)) #it gave us only the even numbers back"
   ]
  },
  {
   "cell_type": "code",
   "execution_count": 46,
   "id": "5f70dc86-b8f8-499e-96ab-8523d34154ce",
   "metadata": {},
   "outputs": [
    {
     "data": {
      "text/plain": [
       "[1, 3, 5]"
      ]
     },
     "execution_count": 46,
     "metadata": {},
     "output_type": "execute_result"
    }
   ],
   "source": [
    "#lets find odd number with filter function in list l\n",
    "list(filter(lambda x :x % 2 != 0 , l)) #it gave us only the odd numbers back"
   ]
  },
  {
   "cell_type": "code",
   "execution_count": 47,
   "id": "edde99b8-58ea-40d3-9527-153d4fc44ba1",
   "metadata": {},
   "outputs": [],
   "source": [
    "#lets make another list \n",
    "n = [-1,22,-3,0,4,-5,-7,22,44,55,-33]"
   ]
  },
  {
   "cell_type": "code",
   "execution_count": 50,
   "id": "545605d8-40fb-4d71-a878-9fb69308b6d1",
   "metadata": {},
   "outputs": [
    {
     "data": {
      "text/plain": [
       "[-1, -3, -5, -7, -33]"
      ]
     },
     "execution_count": 50,
     "metadata": {},
     "output_type": "execute_result"
    }
   ],
   "source": [
    "#lets take out the negative numbers from the list using filter functions\n",
    "list(filter(lambda x : x<0 ,n)) #it gave us back the negative numbers"
   ]
  },
  {
   "cell_type": "code",
   "execution_count": null,
   "id": "cb752545-fafc-43b5-8ffe-69aa4802a627",
   "metadata": {},
   "outputs": [],
   "source": []
  }
 ],
 "metadata": {
  "kernelspec": {
   "display_name": "Python 3 (ipykernel)",
   "language": "python",
   "name": "python3"
  },
  "language_info": {
   "codemirror_mode": {
    "name": "ipython",
    "version": 3
   },
   "file_extension": ".py",
   "mimetype": "text/x-python",
   "name": "python",
   "nbconvert_exporter": "python",
   "pygments_lexer": "ipython3",
   "version": "3.10.8"
  }
 },
 "nbformat": 4,
 "nbformat_minor": 5
}
