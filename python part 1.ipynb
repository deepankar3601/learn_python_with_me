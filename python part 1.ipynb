{
 "cells": [
  {
   "cell_type": "code",
   "execution_count": 3,
   "id": "79d2c686-770a-4fd4-adfb-78a03e44558c",
   "metadata": {},
   "outputs": [
    {
     "name": "stdout",
     "output_type": "stream",
     "text": [
      "hello world!!\n"
     ]
    }
   ],
   "source": [
    "#lets print our first code\n",
    "\n",
    "#want to show something as output.use print function\n",
    "print('hello world!!')"
   ]
  },
  {
   "cell_type": "code",
   "execution_count": 9,
   "id": "b5fcf1a0-1f07-42fe-9e9d-635b1c14747c",
   "metadata": {},
   "outputs": [
    {
     "name": "stdout",
     "output_type": "stream",
     "text": [
      "10\n"
     ]
    }
   ],
   "source": [
    "#VARIABLES\n",
    "#variables are place holders for storing data\n",
    "#a variable name cannot start with number\n",
    "#lets create a variable\n",
    "\n",
    "x = 10   # x is a variable and it is containing value 10 \n",
    "print(x)\n"
   ]
  },
  {
   "cell_type": "code",
   "execution_count": 10,
   "id": "7a40d541-a51a-4594-a5d8-48667fc2dc5a",
   "metadata": {},
   "outputs": [
    {
     "name": "stdout",
     "output_type": "stream",
     "text": [
      "python\n"
     ]
    }
   ],
   "source": [
    "a = \"python\"\n",
    "print(a)"
   ]
  },
  {
   "cell_type": "code",
   "execution_count": 13,
   "id": "3a3c7d78-c6e1-43be-814d-495eb2dc9d3e",
   "metadata": {},
   "outputs": [
    {
     "name": "stdout",
     "output_type": "stream",
     "text": [
      "25\n"
     ]
    }
   ],
   "source": [
    "#basic calculation with variables\n",
    "\n",
    "x = 10\n",
    "y = 15\n",
    "z = x + y\n",
    "print(z)"
   ]
  },
  {
   "cell_type": "code",
   "execution_count": 31,
   "id": "6a88166b-0d69-4bcf-aa18-bb1e074a4e7b",
   "metadata": {},
   "outputs": [],
   "source": [
    "# DATATYPES\n",
    "#str means string. ex.python , linkedin\n",
    "#int means numbers. ex. 45 , 123\n",
    "#float means decimal values. ex. 45.5 , 1.2\n",
    "#complex consist two values. the first one is real part and the second part is imaginary\n",
    "#examples are below\n",
    " "
   ]
  },
  {
   "cell_type": "code",
   "execution_count": 32,
   "id": "7ffc8e30-49af-409e-a41c-d1b32d9b313e",
   "metadata": {},
   "outputs": [],
   "source": [
    "a = 10 #integer\n",
    "b = 'python' #string\n",
    "c = 4.5 #float\n",
    "d = 4+5j #complex"
   ]
  },
  {
   "cell_type": "code",
   "execution_count": 36,
   "id": "dc12488b-cc16-433f-a77b-4ad4174cbdc8",
   "metadata": {},
   "outputs": [],
   "source": [
    "#TYPECASTING\n",
    "#Type casting is the process in which the compiler automatically converts one data type in a program to another one."
   ]
  },
  {
   "cell_type": "code",
   "execution_count": 38,
   "id": "d0100362-d348-4107-a879-e5459b267da4",
   "metadata": {},
   "outputs": [
    {
     "name": "stdout",
     "output_type": "stream",
     "text": [
      "2\n"
     ]
    }
   ],
   "source": [
    "#ex.\n",
    "a= 2.4 #we have float value\n",
    "a = int(2.4) #changing it into integer\n",
    "print(a)"
   ]
  },
  {
   "cell_type": "code",
   "execution_count": 39,
   "id": "67cf2fbe-7aa6-4796-9f1d-1800c732c494",
   "metadata": {},
   "outputs": [
    {
     "name": "stdout",
     "output_type": "stream",
     "text": [
      "3\n"
     ]
    }
   ],
   "source": [
    "b = 3 #we have integer value\n",
    "b = str(3) #changing it into string\n",
    "print(b)"
   ]
  },
  {
   "cell_type": "code",
   "execution_count": 41,
   "id": "0bdb48bb-5e94-4a6e-9364-5426871be015",
   "metadata": {},
   "outputs": [
    {
     "data": {
      "text/plain": [
       "str"
      ]
     },
     "execution_count": 41,
     "metadata": {},
     "output_type": "execute_result"
    }
   ],
   "source": [
    "type(b) #checking the type of b which we just typecast"
   ]
  },
  {
   "cell_type": "code",
   "execution_count": 43,
   "id": "9489e72f-42d8-419a-ba24-0a798fa85ce0",
   "metadata": {},
   "outputs": [],
   "source": [
    "#OPERATORS: Python divides the operators in the following groups:\n",
    "# Arithmetic operators\n",
    "# Assignment operators\n",
    "# Comparison operators\n",
    "# Logical operators\n",
    "# Identity operators\n",
    "# Membership operators\n",
    "# Bitwise operators"
   ]
  },
  {
   "cell_type": "code",
   "execution_count": 44,
   "id": "14093c9f-ad4a-4258-befa-24e25c57dcde",
   "metadata": {},
   "outputs": [
    {
     "name": "stdout",
     "output_type": "stream",
     "text": [
      "3\n"
     ]
    }
   ],
   "source": [
    "#ARTHIMETIC OPERATORS\n",
    "# ,+ ,- ,/ ,* ,**, % ,//\n",
    "#lets take an ex\n",
    "\n",
    "a = 1\n",
    "b = 2\n",
    "add = a+b\n",
    "print(add)"
   ]
  },
  {
   "cell_type": "code",
   "execution_count": 46,
   "id": "8e218987-b366-4a30-a884-c4157371c03a",
   "metadata": {},
   "outputs": [
    {
     "name": "stdout",
     "output_type": "stream",
     "text": [
      "a is greater than b \n"
     ]
    }
   ],
   "source": [
    "#RELATIONAL OPERATORS\n",
    "# == , > , < , >= , <= , !=\n",
    "#lets take an ex\n",
    "\n",
    "a = 4\n",
    "b = 3\n",
    "if a > b :\n",
    "    print('a is greater than b ')\n",
    "else:\n",
    "    print('false')\n"
   ]
  },
  {
   "cell_type": "code",
   "execution_count": 50,
   "id": "b8628bf8-76bb-41b0-8686-88b0dc38fb82",
   "metadata": {},
   "outputs": [
    {
     "name": "stdout",
     "output_type": "stream",
     "text": [
      "5\n"
     ]
    }
   ],
   "source": [
    "#assignment operators\n",
    "# = , += , -= , *= , /= , %=\n",
    "#lets take an ex\n",
    "\n",
    "a = 2\n",
    "b = 3\n",
    "b += a #adding a into b through assignment operators\n",
    "print(b)"
   ]
  },
  {
   "cell_type": "code",
   "execution_count": 53,
   "id": "d3980870-fb79-4665-b48f-cce58c05f4a3",
   "metadata": {},
   "outputs": [
    {
     "name": "stdout",
     "output_type": "stream",
     "text": [
      "True\n"
     ]
    }
   ],
   "source": [
    "#logical operators\n",
    "# and , or , not\n",
    "# lets take an ex\n",
    "\n",
    "a=2\n",
    "b=3\n",
    "c=4\n",
    "d = a < b and b < c # and will give true if all condition works\n",
    "print(d)"
   ]
  },
  {
   "cell_type": "code",
   "execution_count": 54,
   "id": "b053574c-ae0c-4b36-9309-2f2045374023",
   "metadata": {},
   "outputs": [
    {
     "name": "stdout",
     "output_type": "stream",
     "text": [
      "True\n"
     ]
    }
   ],
   "source": [
    "# lets take an example of or\n",
    "\n",
    "a = 2\n",
    "b = 3\n",
    "c = 4\n",
    "\n",
    "d = a > b or c > b\n",
    "print(d)"
   ]
  },
  {
   "cell_type": "code",
   "execution_count": 57,
   "id": "bb2a8a81-875e-4b72-b7be-337ab703a80b",
   "metadata": {},
   "outputs": [
    {
     "name": "stdout",
     "output_type": "stream",
     "text": [
      "True\n"
     ]
    }
   ],
   "source": [
    "# lets take an example of not\n",
    "\n",
    "a = 2\n",
    "b = 3\n",
    "c = not a > b #not makes the output opposite\n",
    "print(c)"
   ]
  },
  {
   "cell_type": "code",
   "execution_count": 64,
   "id": "dd43fce2-545e-458f-8313-c194c253983b",
   "metadata": {},
   "outputs": [
    {
     "name": "stdout",
     "output_type": "stream",
     "text": [
      "true\n"
     ]
    }
   ],
   "source": [
    "#MEMBERSHIP OPERATORS\n",
    "# in , not in\n",
    "#example of in\n",
    "a = 2 # creating a variable a\n",
    "l = [2,4,6,8,10] #creating a list\n",
    "\n",
    "if(a in l): #checking if a is in the list or not\n",
    "    print('true')\n",
    "else:\n",
    "    print('false')\n",
    "\n"
   ]
  },
  {
   "cell_type": "code",
   "execution_count": 66,
   "id": "fd6afc82-3c51-42cf-a6e4-6cd6a7c6d807",
   "metadata": {},
   "outputs": [
    {
     "name": "stdout",
     "output_type": "stream",
     "text": [
      "true\n"
     ]
    }
   ],
   "source": [
    "#example of not in\n",
    "\n",
    "a = 10 # creating a variable a\n",
    "l = [2,4,5,6,8,7,9,11]  #creating a list\n",
    "\n",
    "if (a not in l): #checking if a is in the list or not\n",
    "    print('true')\n",
    "else:\n",
    "    print('false')"
   ]
  },
  {
   "cell_type": "code",
   "execution_count": 69,
   "id": "8648fa2e-d6e1-477f-83c8-2bf90bf62612",
   "metadata": {},
   "outputs": [
    {
     "name": "stdout",
     "output_type": "stream",
     "text": [
      "it is an integer not a string\n"
     ]
    }
   ],
   "source": [
    "#IDENTITY OPERATORS\n",
    "# is , is not\n",
    "#example of is and is not\n",
    "\n",
    "x = 10 #creating a variable\n",
    "if(type(x) is int and type(x) is not str): #passing is and is not operators with and\n",
    "    print('it is an integer not a string')\n",
    "\n",
    "else:\n",
    "    print('false')"
   ]
  },
  {
   "cell_type": "code",
   "execution_count": null,
   "id": "92c555d5-557c-4948-8a97-5b2ca1f90a0c",
   "metadata": {},
   "outputs": [],
   "source": []
  }
 ],
 "metadata": {
  "kernelspec": {
   "display_name": "Python 3 (ipykernel)",
   "language": "python",
   "name": "python3"
  },
  "language_info": {
   "codemirror_mode": {
    "name": "ipython",
    "version": 3
   },
   "file_extension": ".py",
   "mimetype": "text/x-python",
   "name": "python",
   "nbconvert_exporter": "python",
   "pygments_lexer": "ipython3",
   "version": "3.10.8"
  }
 },
 "nbformat": 4,
 "nbformat_minor": 5
}
