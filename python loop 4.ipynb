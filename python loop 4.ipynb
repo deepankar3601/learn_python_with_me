{
 "cells": [
  {
   "cell_type": "code",
   "execution_count": 17,
   "id": "f4820ac1-822c-421f-9eee-9a42a64dca5c",
   "metadata": {},
   "outputs": [],
   "source": [
    "#ForLoop\n",
    "#A for loop is used for iterating over a sequence (that is either a list, a tuple, a dictionary, a set, or a string)."
   ]
  },
  {
   "cell_type": "code",
   "execution_count": 18,
   "id": "99f006bb-cf6a-465c-be95-cba77fdd8ef4",
   "metadata": {},
   "outputs": [],
   "source": [
    "l = [1,2,3,4,5] #creating a list"
   ]
  },
  {
   "cell_type": "code",
   "execution_count": 19,
   "id": "6444f478-cbff-44cc-8d97-89f63a221cca",
   "metadata": {},
   "outputs": [
    {
     "name": "stdout",
     "output_type": "stream",
     "text": [
      "1\n",
      "2\n",
      "3\n",
      "4\n",
      "5\n"
     ]
    }
   ],
   "source": [
    "for i in l:\n",
    "    print(i) #here i is item and for is iterating all the elements in the list"
   ]
  },
  {
   "cell_type": "code",
   "execution_count": 20,
   "id": "0d199bc8-9c4d-42af-a013-0148f15660a5",
   "metadata": {},
   "outputs": [],
   "source": [
    "l1 = ['python','name','game','practice']"
   ]
  },
  {
   "cell_type": "code",
   "execution_count": 21,
   "id": "e8c26c47-8357-4026-92f7-b53c4007abc7",
   "metadata": {},
   "outputs": [
    {
     "name": "stdout",
     "output_type": "stream",
     "text": [
      "python\n",
      "name\n",
      "game\n",
      "practice\n"
     ]
    }
   ],
   "source": [
    "for i in l1:\n",
    "    print(i) #same is happening here for loop is iterating all the elements in the list l1"
   ]
  },
  {
   "cell_type": "code",
   "execution_count": 22,
   "id": "a8ecd4d6-25c4-45a9-992d-660150ffe101",
   "metadata": {},
   "outputs": [
    {
     "name": "stdout",
     "output_type": "stream",
     "text": [
      "python\n",
      "name\n",
      "game\n",
      "practice\n",
      "else will print when for loop will complete itself\n"
     ]
    }
   ],
   "source": [
    "for i in l1: #for loop with else\n",
    "    print(i)\n",
    "else:\n",
    "    print('else will print when for loop will complete itself')"
   ]
  },
  {
   "cell_type": "code",
   "execution_count": 23,
   "id": "af8b2148-454c-4b71-8183-198ee49105ea",
   "metadata": {},
   "outputs": [
    {
     "data": {
      "text/plain": [
       "['python', 'name', 'game', 'practice']"
      ]
     },
     "execution_count": 23,
     "metadata": {},
     "output_type": "execute_result"
    }
   ],
   "source": [
    "l1"
   ]
  },
  {
   "cell_type": "code",
   "execution_count": 24,
   "id": "2fceb5e3-a317-490b-a4a1-468fc49910a1",
   "metadata": {},
   "outputs": [
    {
     "name": "stdout",
     "output_type": "stream",
     "text": [
      "python\n",
      "name\n"
     ]
    }
   ],
   "source": [
    "# Break terminate a loop and skip to the next code after the loop; break will help you do that. \n",
    "for i in l1: #for with if\n",
    "    if i == \"game\": #giving it an arguement that when i == game\n",
    "        break #than break (break is an inbuilt keyword and it stops the loop)\n",
    "    print(i) #and print i \n",
    "#it printed the elements till game   "
   ]
  },
  {
   "cell_type": "code",
   "execution_count": 25,
   "id": "7b16b53f-777f-425f-a6bd-b5e14e007f62",
   "metadata": {},
   "outputs": [
    {
     "data": {
      "text/plain": [
       "['python', 'name', 'game', 'practice']"
      ]
     },
     "execution_count": 25,
     "metadata": {},
     "output_type": "execute_result"
    }
   ],
   "source": [
    "l1"
   ]
  },
  {
   "cell_type": "code",
   "execution_count": 10,
   "id": "c3d661bf-dc80-4377-9a49-c8d25fde4124",
   "metadata": {},
   "outputs": [
    {
     "name": "stdout",
     "output_type": "stream",
     "text": [
      "python\n"
     ]
    }
   ],
   "source": [
    "#break with else\n",
    "for i in l1:\n",
    "    if i == 'name':\n",
    "        break\n",
    "    print(i)\n",
    "else:\n",
    "    print('this will execute when the for loop complete itself') "
   ]
  },
  {
   "cell_type": "code",
   "execution_count": 11,
   "id": "0493fba0-656c-4e1d-8640-64a94bad216c",
   "metadata": {},
   "outputs": [],
   "source": [
    "#in the upper case else didn't get printed because the for loop didn't completed itself"
   ]
  },
  {
   "cell_type": "code",
   "execution_count": 12,
   "id": "5cf4454a-f5a4-4b72-947f-f4a16100e9c2",
   "metadata": {},
   "outputs": [
    {
     "data": {
      "text/plain": [
       "['python', 'name', 'game', 'practice']"
      ]
     },
     "execution_count": 12,
     "metadata": {},
     "output_type": "execute_result"
    }
   ],
   "source": [
    "l1"
   ]
  },
  {
   "cell_type": "code",
   "execution_count": 16,
   "id": "ffe78953-f92c-4512-9772-799b93898d13",
   "metadata": {},
   "outputs": [
    {
     "name": "stdout",
     "output_type": "stream",
     "text": [
      "python\n",
      "game\n",
      "practice\n"
     ]
    }
   ],
   "source": [
    "#continue\n",
    "#The continue keyword is used to end the current iteration in a for loop (or a while loop), and continues to the next iteration\n",
    "for i in l1:\n",
    "    if i == 'name':\n",
    "        continue #continue will skip the arguement which is given\n",
    "    print(i)    "
   ]
  },
  {
   "cell_type": "code",
   "execution_count": 14,
   "id": "f5639d2c-9693-4e8e-b5ef-c62106c5ee8d",
   "metadata": {},
   "outputs": [
    {
     "data": {
      "text/plain": [
       "['python', 'name', 'game', 'practice']"
      ]
     },
     "execution_count": 14,
     "metadata": {},
     "output_type": "execute_result"
    }
   ],
   "source": [
    "l1"
   ]
  },
  {
   "cell_type": "code",
   "execution_count": 15,
   "id": "a865cb2d-1a28-4f03-b0d5-96e5aeed2078",
   "metadata": {},
   "outputs": [
    {
     "name": "stdout",
     "output_type": "stream",
     "text": [
      "python\n",
      "game\n",
      "practice\n",
      "this will execute when the for loop will complete itself\n"
     ]
    }
   ],
   "source": [
    "#continue with else\n",
    "for i in l1:\n",
    "    if i == 'name':\n",
    "        continue\n",
    "    print(i)\n",
    "else:\n",
    "    print('this will execute when the for loop will complete itself')"
   ]
  },
  {
   "cell_type": "code",
   "execution_count": 26,
   "id": "f49dcf55-4bb1-4c52-a126-c7cca2813e29",
   "metadata": {},
   "outputs": [],
   "source": [
    "#in the upper case else also got executed because the for loop completed itself."
   ]
  },
  {
   "cell_type": "code",
   "execution_count": 26,
   "id": "ad4d65d8-d9ac-494f-b0ad-e7a6ff9f77f9",
   "metadata": {},
   "outputs": [],
   "source": [
    "#Range returns a sequence of numbers starting from zero and increment by 1 by default and stops before the given number."
   ]
  },
  {
   "cell_type": "code",
   "execution_count": 27,
   "id": "451b79f6-08e5-4d5c-b83e-89556b1de417",
   "metadata": {},
   "outputs": [
    {
     "data": {
      "text/plain": [
       "range(0, 5)"
      ]
     },
     "execution_count": 27,
     "metadata": {},
     "output_type": "execute_result"
    }
   ],
   "source": [
    "range(5)"
   ]
  },
  {
   "cell_type": "code",
   "execution_count": 28,
   "id": "8ce7a527-a51b-4cd3-abff-dca0a1c60e17",
   "metadata": {},
   "outputs": [
    {
     "data": {
      "text/plain": [
       "[0, 1, 2, 3, 4]"
      ]
     },
     "execution_count": 28,
     "metadata": {},
     "output_type": "execute_result"
    }
   ],
   "source": [
    "list(range(5))"
   ]
  },
  {
   "cell_type": "code",
   "execution_count": 31,
   "id": "532e1ea6-bc20-47ad-a393-a770ceb5fad2",
   "metadata": {},
   "outputs": [
    {
     "data": {
      "text/plain": [
       "[0, 2, 4, 6, 8, 10, 12, 14, 16, 18]"
      ]
     },
     "execution_count": 31,
     "metadata": {},
     "output_type": "execute_result"
    }
   ],
   "source": [
    "list(range(0,20,2)) #this will give back even numbers only in range of 0 to 20"
   ]
  },
  {
   "cell_type": "code",
   "execution_count": 35,
   "id": "5e492a6c-ddb7-4476-9a85-d6a271c8ac35",
   "metadata": {},
   "outputs": [
    {
     "data": {
      "text/plain": [
       "[-10, -9, -8, -7, -6, -5, -4, -3, -2, -1]"
      ]
     },
     "execution_count": 35,
     "metadata": {},
     "output_type": "execute_result"
    }
   ],
   "source": [
    "list(range(-10,0)) #we can also create negative data from here"
   ]
  },
  {
   "cell_type": "code",
   "execution_count": 36,
   "id": "a97d6dbf-744e-45a9-a565-a6d3f9e60ac1",
   "metadata": {},
   "outputs": [
    {
     "data": {
      "text/plain": [
       "['python', 'name', 'game', 'practice']"
      ]
     },
     "execution_count": 36,
     "metadata": {},
     "output_type": "execute_result"
    }
   ],
   "source": [
    "l1"
   ]
  },
  {
   "cell_type": "code",
   "execution_count": 41,
   "id": "a4118673-8b4b-414b-9ee8-39772698c3c4",
   "metadata": {},
   "outputs": [
    {
     "name": "stdout",
     "output_type": "stream",
     "text": [
      "python\n",
      "name\n",
      "game\n",
      "practice\n"
     ]
    }
   ],
   "source": [
    "for i in range(len(l1)): #using for loop with range and iterating it from a list\n",
    "    print(l1[i])"
   ]
  },
  {
   "cell_type": "code",
   "execution_count": 43,
   "id": "0957ef44-77c5-449e-b448-54e1769056ff",
   "metadata": {},
   "outputs": [
    {
     "name": "stdout",
     "output_type": "stream",
     "text": [
      "practice\n",
      "game\n",
      "name\n",
      "python\n"
     ]
    }
   ],
   "source": [
    "for i in range(len(l1)-1,-1,-1): #now iterating the data backwards\n",
    "    print(l1[i])"
   ]
  },
  {
   "cell_type": "code",
   "execution_count": 44,
   "id": "9658a3db-cf45-4ce9-9ce5-3846bad536c4",
   "metadata": {},
   "outputs": [],
   "source": [
    "l2 = [1,2,3,4,5,6,7,8,9,10,11,12,13,14]"
   ]
  },
  {
   "cell_type": "code",
   "execution_count": 50,
   "id": "70942cd2-56dc-439e-9fdb-e823b30e3f09",
   "metadata": {},
   "outputs": [
    {
     "name": "stdout",
     "output_type": "stream",
     "text": [
      "1\n",
      "3\n",
      "5\n",
      "7\n",
      "9\n",
      "11\n",
      "13\n"
     ]
    }
   ],
   "source": [
    "#lets make a jump of 2 and iterate all the values\n",
    "for i in range(0,len(l2),2):\n",
    "    print(l2[i])"
   ]
  },
  {
   "cell_type": "code",
   "execution_count": 56,
   "id": "5e87828e-8b25-4c61-a0aa-d5dd6dc16c3a",
   "metadata": {},
   "outputs": [
    {
     "data": {
      "text/plain": [
       "105"
      ]
     },
     "execution_count": 56,
     "metadata": {},
     "output_type": "execute_result"
    }
   ],
   "source": [
    "sum(l2) #sum of l2"
   ]
  },
  {
   "cell_type": "code",
   "execution_count": 57,
   "id": "e8ff3a2c-31f3-4d6d-a99d-a5486cc2a436",
   "metadata": {},
   "outputs": [
    {
     "data": {
      "text/plain": [
       "105"
      ]
     },
     "execution_count": 57,
     "metadata": {},
     "output_type": "execute_result"
    }
   ],
   "source": [
    "#lets sum all the values in list l2 with for loop\n",
    "\n",
    "result = 0 #creating a variable result with value 0\n",
    "for i in l2:\n",
    "    result = result + i #loop will start and will work on the condition given\n",
    "result #when the loop will complete it will print the result    "
   ]
  },
  {
   "cell_type": "code",
   "execution_count": 59,
   "id": "3e2ffe7f-ed42-4521-b262-b4e409d4a28d",
   "metadata": {},
   "outputs": [],
   "source": [
    "#lets create a tuple\n",
    "tu = (1,2,3,4,5,6)"
   ]
  },
  {
   "cell_type": "code",
   "execution_count": 61,
   "id": "1f375880-878a-41da-9b11-661d6db36029",
   "metadata": {},
   "outputs": [
    {
     "name": "stdout",
     "output_type": "stream",
     "text": [
      "1\n",
      "2\n",
      "3\n",
      "4\n",
      "5\n",
      "6\n"
     ]
    }
   ],
   "source": [
    "for i in tu:\n",
    "    print(i) #loopn works with tuple too"
   ]
  },
  {
   "cell_type": "code",
   "execution_count": 62,
   "id": "503fa73b-dd2a-4470-b5cb-3db347e0d81d",
   "metadata": {},
   "outputs": [],
   "source": [
    "#lets create a set\n",
    "se = {1,2,3,4,5,65,68,45,56}"
   ]
  },
  {
   "cell_type": "code",
   "execution_count": 64,
   "id": "d86989cb-6722-4011-8e00-4839a0ebec75",
   "metadata": {},
   "outputs": [
    {
     "name": "stdout",
     "output_type": "stream",
     "text": [
      "1\n",
      "2\n",
      "3\n",
      "4\n",
      "5\n",
      "65\n",
      "68\n",
      "45\n",
      "56\n"
     ]
    }
   ],
   "source": [
    "for i in se:\n",
    "    print(i) #it also works with set"
   ]
  },
  {
   "cell_type": "code",
   "execution_count": 72,
   "id": "279df682-d1d4-4d2d-9223-63d2aa610625",
   "metadata": {},
   "outputs": [],
   "source": [
    "#lets create a dictionary\n",
    "\n",
    "dic = {'name':'deepankar','age':'21','hobbies':['singing','reading','writing']}"
   ]
  },
  {
   "cell_type": "code",
   "execution_count": 79,
   "id": "0b9af659-9b01-4ebe-8f43-83a86a204fc9",
   "metadata": {},
   "outputs": [
    {
     "name": "stdout",
     "output_type": "stream",
     "text": [
      "deepankar\n",
      "21\n",
      "['singing', 'reading', 'writing']\n"
     ]
    }
   ],
   "source": [
    "#lets iterate the keys from dic\n",
    "for i in dic.keys():\n",
    "    print(dic[i]) #iterating only the keys"
   ]
  },
  {
   "cell_type": "code",
   "execution_count": 81,
   "id": "a7c65098-e756-4969-ad55-e596265064ed",
   "metadata": {},
   "outputs": [
    {
     "name": "stdout",
     "output_type": "stream",
     "text": [
      "deepankar\n",
      "21\n",
      "['singing', 'reading', 'writing']\n"
     ]
    }
   ],
   "source": [
    "#lets iterate the values from dictionary\n",
    "for i in dic.values():\n",
    "    print(i)"
   ]
  },
  {
   "cell_type": "code",
   "execution_count": 84,
   "id": "4ab3cb0e-1c61-4579-8c47-0f0472fc4d59",
   "metadata": {},
   "outputs": [
    {
     "name": "stdout",
     "output_type": "stream",
     "text": [
      "('name', 'deepankar')\n",
      "('age', '21')\n",
      "('hobbies', ['singing', 'reading', 'writing'])\n"
     ]
    }
   ],
   "source": [
    "#lets iterate the whole dictionary\n",
    "for i in dic.items():\n",
    "    print(i)"
   ]
  },
  {
   "cell_type": "code",
   "execution_count": null,
   "id": "15963dd2-310b-4d98-a50d-5466a2e35e91",
   "metadata": {},
   "outputs": [],
   "source": []
  }
 ],
 "metadata": {
  "kernelspec": {
   "display_name": "Python 3 (ipykernel)",
   "language": "python",
   "name": "python3"
  },
  "language_info": {
   "codemirror_mode": {
    "name": "ipython",
    "version": 3
   },
   "file_extension": ".py",
   "mimetype": "text/x-python",
   "name": "python",
   "nbconvert_exporter": "python",
   "pygments_lexer": "ipython3",
   "version": "3.10.8"
  }
 },
 "nbformat": 4,
 "nbformat_minor": 5
}
