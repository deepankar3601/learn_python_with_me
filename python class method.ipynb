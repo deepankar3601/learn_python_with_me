{
 "cells": [
  {
   "cell_type": "code",
   "execution_count": 28,
   "id": "8ef79614-6de3-4237-a5f1-530569493a25",
   "metadata": {},
   "outputs": [],
   "source": [
    "#Deepankar Chaudhary\n",
    "#Topics Covered - Class method\n",
    "# Class Method : The @classmethod Decorator\n",
    "# The @classmethod decorator is a built-in function decorator which is an expression that gets evaluated after your function is defined. The result of that evaluation shadows your function definition. \n",
    "# A class method receives the class as the implicit first argument, just like an instance method receives the instance."
   ]
  },
  {
   "cell_type": "code",
   "execution_count": 99,
   "id": "b20a8104-c4d2-4f38-a4b2-1bc6c40f360d",
   "metadata": {},
   "outputs": [],
   "source": [
    "#making a class laptop\n",
    "\n",
    "class laptop:\n",
    "    \n",
    "    #through init adding some values in the nfunction\n",
    "    def __init__(self , name , processor , ram):\n",
    "        self.name = name\n",
    "        self.processor = processor\n",
    "        self.ram = ram\n",
    "    \n",
    "    #using @classmethod and passing some values \n",
    "    @classmethod\n",
    "    def laptop_details(cls , name , processor ,ram):\n",
    "        return cls(name , processor , ram)\n",
    "    \n",
    "    #creating a function to return the values of init\n",
    "    def laptop_specs(self):\n",
    "        return self.name , self.processor , self.ram"
   ]
  },
  {
   "cell_type": "code",
   "execution_count": 122,
   "id": "477d4fad-3c2f-47b6-afd3-0804fa10c9cd",
   "metadata": {},
   "outputs": [],
   "source": [
    "l = laptop.laptop_details('lenovo' , 'i5' , '8gb') #creating an object with classmethod ie.laptop details"
   ]
  },
  {
   "cell_type": "code",
   "execution_count": 125,
   "id": "d41efbea-1d4f-40f8-b9f2-bf823316d01f",
   "metadata": {},
   "outputs": [
    {
     "data": {
      "text/plain": [
       "('lenovo', 'i5', '8gb')"
      ]
     },
     "execution_count": 125,
     "metadata": {},
     "output_type": "execute_result"
    }
   ],
   "source": [
    "l.laptop_specs() #now we can call the values through laptop specs too that is a part of the init function"
   ]
  },
  {
   "cell_type": "code",
   "execution_count": 180,
   "id": "4f3ae0c4-addd-4c1f-ab98-2a986aff659e",
   "metadata": {},
   "outputs": [],
   "source": [
    "#now lets bound a class variable into the class function\n",
    "#making a class car\n",
    "class car:\n",
    "    \n",
    "    owner = 'Ankit' #making a variable inside class\n",
    "    \n",
    "    def __init__(self , brand , engine , colour): #passing values through init\n",
    "        self.brand = brand\n",
    "        self.engine = engine\n",
    "        self.colour = colour\n",
    "    \n",
    "    @classmethod #through @classmethod making a function to change the owner name\n",
    "    def change_owner(cls , other_owner):\n",
    "        car.owner = other_owner\n",
    "    \n",
    "    \n",
    "    @classmethod # through @classmethod passing some values inside a new function\n",
    "    def details(cls , brand , engine , colour):\n",
    "        return cls(brand , engine ,colour)\n",
    "    \n",
    "    \n",
    "    def car_details(self): #making a function to return details\n",
    "        print(\"brand of car is \" ,self.brand ,\", engine power is\", self.engine ,', colour is' , self.colour ,'and owner name is ',car.owner)"
   ]
  },
  {
   "cell_type": "code",
   "execution_count": 181,
   "id": "138fd1e5-7058-47b9-bed0-bcc30171df87",
   "metadata": {},
   "outputs": [],
   "source": [
    "#now lets change the name of the owner first\n",
    "\n",
    "car.change_owner('Deepankar')"
   ]
  },
  {
   "cell_type": "code",
   "execution_count": 182,
   "id": "349b775c-4c56-4ba6-8f70-c5be598d50a4",
   "metadata": {},
   "outputs": [
    {
     "data": {
      "text/plain": [
       "'Deepankar'"
      ]
     },
     "execution_count": 182,
     "metadata": {},
     "output_type": "execute_result"
    }
   ],
   "source": [
    "car.owner #owner name has been changed"
   ]
  },
  {
   "cell_type": "code",
   "execution_count": 183,
   "id": "236f6089-b82b-484f-b192-e7f37a77b648",
   "metadata": {},
   "outputs": [],
   "source": [
    "car_obj = car.details('audi' , '5000 cc' , 'black') #now adding some values through the @classmethod function and and making an object"
   ]
  },
  {
   "cell_type": "code",
   "execution_count": 184,
   "id": "81d455bf-261c-4848-a3a9-3c3056bf85f4",
   "metadata": {},
   "outputs": [
    {
     "name": "stdout",
     "output_type": "stream",
     "text": [
      "brand of car is  audi , engine power is 5000 cc , colour is black and owner name is  Deepankar\n"
     ]
    }
   ],
   "source": [
    "car_obj.car_details() #printing the details with car details function"
   ]
  },
  {
   "cell_type": "code",
   "execution_count": 185,
   "id": "c9762d45-aed9-4cd7-99d8-e94996f79840",
   "metadata": {},
   "outputs": [],
   "source": [
    "#lets make an external function and pass it into the old class car\n",
    "#making a function car price \n",
    "def car_price(cls , price): \n",
    "    print(\"car price is \" , price)"
   ]
  },
  {
   "cell_type": "code",
   "execution_count": 186,
   "id": "5db20ba1-e3f9-42cd-9bd8-3ac6fb277ca5",
   "metadata": {},
   "outputs": [],
   "source": [
    "car.car_price = classmethod(car_price) #now adding the function into class car with classmethod"
   ]
  },
  {
   "cell_type": "code",
   "execution_count": 187,
   "id": "aaa98d09-2bd3-40ea-860c-2238c6a83d67",
   "metadata": {},
   "outputs": [
    {
     "name": "stdout",
     "output_type": "stream",
     "text": [
      "car price is  1000000\n"
     ]
    }
   ],
   "source": [
    "car.car_price(1000000)"
   ]
  },
  {
   "cell_type": "code",
   "execution_count": 188,
   "id": "e1a1230a-cd5e-43e2-ac28-230fc6766038",
   "metadata": {},
   "outputs": [],
   "source": [
    "#lets make an another external function\n",
    "\n",
    "def top_speed(cls , tspeed):\n",
    "    print('top speed is ' , tspeed)"
   ]
  },
  {
   "cell_type": "code",
   "execution_count": 189,
   "id": "c836e2ea-62fb-438e-9c67-645775bae3ad",
   "metadata": {},
   "outputs": [],
   "source": [
    "car.top_speed = classmethod(top_speed)"
   ]
  },
  {
   "cell_type": "code",
   "execution_count": 190,
   "id": "c42b6744-d978-417f-9a5b-ac9d3af7076f",
   "metadata": {},
   "outputs": [
    {
     "name": "stdout",
     "output_type": "stream",
     "text": [
      "top speed is  200 kmph\n"
     ]
    }
   ],
   "source": [
    "car.top_speed('200 kmph')"
   ]
  },
  {
   "cell_type": "code",
   "execution_count": 192,
   "id": "0571c5a4-2080-4a21-994c-df87aaae3c23",
   "metadata": {},
   "outputs": [],
   "source": [
    "# making a class\n",
    "\n",
    "class person:\n",
    "    \n",
    "    #making two variable inside the class\n",
    "    salary = \"50000\" \n",
    "    qualification = 'bcom'\n",
    "    \n",
    "    #passing some values through init\n",
    "    def __init__(self , name , age , weight):\n",
    "        self.name = name\n",
    "        self.age = age\n",
    "        self.weight = weight\n",
    "    \n",
    "    #making a function to display the values\n",
    "    def display(self):\n",
    "        print(self.name , self.age , self.weight)"
   ]
  },
  {
   "cell_type": "code",
   "execution_count": 193,
   "id": "be4a7cdc-3415-4e80-aafd-f21a8163cec3",
   "metadata": {},
   "outputs": [],
   "source": [
    "#making an object\n",
    "\n",
    "per_obj = person('deepankar' , '21' , '70')"
   ]
  },
  {
   "cell_type": "code",
   "execution_count": 195,
   "id": "b71c9105-44af-4091-a17b-f98ddb6e01a7",
   "metadata": {},
   "outputs": [
    {
     "name": "stdout",
     "output_type": "stream",
     "text": [
      "deepankar 21 70\n"
     ]
    }
   ],
   "source": [
    "per_obj.display()"
   ]
  },
  {
   "cell_type": "code",
   "execution_count": 196,
   "id": "56c926b7-da43-4be6-9a74-9af9c2b3f7c7",
   "metadata": {},
   "outputs": [
    {
     "data": {
      "text/plain": [
       "'bcom'"
      ]
     },
     "execution_count": 196,
     "metadata": {},
     "output_type": "execute_result"
    }
   ],
   "source": [
    "person.qualification"
   ]
  },
  {
   "cell_type": "code",
   "execution_count": 197,
   "id": "228dcb7c-077a-4792-98e1-e41941408041",
   "metadata": {},
   "outputs": [
    {
     "data": {
      "text/plain": [
       "'50000'"
      ]
     },
     "execution_count": 197,
     "metadata": {},
     "output_type": "execute_result"
    }
   ],
   "source": [
    "person.salary"
   ]
  },
  {
   "cell_type": "code",
   "execution_count": 199,
   "id": "db06b84c-9367-48df-8071-7b495496461e",
   "metadata": {},
   "outputs": [],
   "source": [
    "#now lets delete the variable inisde the class person\n",
    "#their are two ways\n",
    "#1\n",
    "\n",
    "del person.qualification\n"
   ]
  },
  {
   "cell_type": "code",
   "execution_count": 201,
   "id": "08267726-fb9b-4f2a-8b91-7bf9a465f4af",
   "metadata": {},
   "outputs": [
    {
     "ename": "AttributeError",
     "evalue": "type object 'person' has no attribute 'qualification'",
     "output_type": "error",
     "traceback": [
      "\u001b[0;31m---------------------------------------------------------------------------\u001b[0m",
      "\u001b[0;31mAttributeError\u001b[0m                            Traceback (most recent call last)",
      "Cell \u001b[0;32mIn[201], line 2\u001b[0m\n\u001b[1;32m      1\u001b[0m \u001b[38;5;66;03m#delted\u001b[39;00m\n\u001b[0;32m----> 2\u001b[0m \u001b[43mperson\u001b[49m\u001b[38;5;241;43m.\u001b[39;49m\u001b[43mqualification\u001b[49m()\n",
      "\u001b[0;31mAttributeError\u001b[0m: type object 'person' has no attribute 'qualification'"
     ]
    }
   ],
   "source": [
    "#delted\n",
    "person.qualification()"
   ]
  },
  {
   "cell_type": "code",
   "execution_count": 203,
   "id": "ebfcdbd3-cc36-485f-827a-8d474d8cb846",
   "metadata": {},
   "outputs": [],
   "source": [
    "#2 \n",
    "delattr(person , 'salary')"
   ]
  },
  {
   "cell_type": "code",
   "execution_count": 205,
   "id": "6b711286-35e5-48ed-8aa2-5c4de88bc41e",
   "metadata": {},
   "outputs": [
    {
     "ename": "AttributeError",
     "evalue": "type object 'person' has no attribute 'salary'",
     "output_type": "error",
     "traceback": [
      "\u001b[0;31m---------------------------------------------------------------------------\u001b[0m",
      "\u001b[0;31mAttributeError\u001b[0m                            Traceback (most recent call last)",
      "Cell \u001b[0;32mIn[205], line 2\u001b[0m\n\u001b[1;32m      1\u001b[0m \u001b[38;5;66;03m#deleted\u001b[39;00m\n\u001b[0;32m----> 2\u001b[0m \u001b[43mperson\u001b[49m\u001b[38;5;241;43m.\u001b[39;49m\u001b[43msalary\u001b[49m\n",
      "\u001b[0;31mAttributeError\u001b[0m: type object 'person' has no attribute 'salary'"
     ]
    }
   ],
   "source": [
    "#deleted\n",
    "person.salary"
   ]
  }
 ],
 "metadata": {
  "kernelspec": {
   "display_name": "Python 3 (ipykernel)",
   "language": "python",
   "name": "python3"
  },
  "language_info": {
   "codemirror_mode": {
    "name": "ipython",
    "version": 3
   },
   "file_extension": ".py",
   "mimetype": "text/x-python",
   "name": "python",
   "nbconvert_exporter": "python",
   "pygments_lexer": "ipython3",
   "version": "3.10.8"
  }
 },
 "nbformat": 4,
 "nbformat_minor": 5
}
