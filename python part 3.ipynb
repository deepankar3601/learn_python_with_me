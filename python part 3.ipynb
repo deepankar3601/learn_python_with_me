{
 "cells": [
  {
   "cell_type": "raw",
   "id": "0679bbcf-1a84-4fe6-9916-3f6fdd6bc021",
   "metadata": {},
   "source": [
    "Deepankar chaudhary\n",
    "Topics - Dictionary , Conditional and Loop"
   ]
  },
  {
   "cell_type": "raw",
   "id": "8bf30f6e-4d0d-4b94-b894-df98587054be",
   "metadata": {},
   "source": [
    "Dictionary\n",
    "Dictionaries are used to store data values in key:value pairs.\n",
    "A dictionary is a collection which is ordered*, changeable and do not allow duplicates.\n",
    "Dictionaries are written with curly brackets, and have keys and values.\n",
    "dictionary allows integer , boolean , string."
   ]
  },
  {
   "cell_type": "code",
   "execution_count": 1,
   "id": "7cee3c76-a4ed-4b20-b502-487d00e167b4",
   "metadata": {},
   "outputs": [],
   "source": [
    "dic = {'key':'value','key2':'value2','key3':'value3'} #creating a dictionary "
   ]
  },
  {
   "cell_type": "code",
   "execution_count": 2,
   "id": "e7c9d052-68b3-4494-a0d6-85ff722490c4",
   "metadata": {},
   "outputs": [
    {
     "name": "stdout",
     "output_type": "stream",
     "text": [
      "{'key': 'value', 'key2': 'value2', 'key3': 'value3'}\n"
     ]
    }
   ],
   "source": [
    "print(dic) #printing the dictionary we made"
   ]
  },
  {
   "cell_type": "code",
   "execution_count": 3,
   "id": "93cc33de-bf55-4e26-b8e2-111c0ceae91d",
   "metadata": {},
   "outputs": [
    {
     "data": {
      "text/plain": [
       "dict"
      ]
     },
     "execution_count": 3,
     "metadata": {},
     "output_type": "execute_result"
    }
   ],
   "source": [
    "type(dic) #checking the type of our variable dic."
   ]
  },
  {
   "cell_type": "code",
   "execution_count": 4,
   "id": "20d29f73-2b3a-4e7d-a2bc-ab79311b6a35",
   "metadata": {},
   "outputs": [
    {
     "data": {
      "text/plain": [
       "'value'"
      ]
     },
     "execution_count": 4,
     "metadata": {},
     "output_type": "execute_result"
    }
   ],
   "source": [
    "#indexing concept is not used here. we have to call the key to get the value.\n",
    "\n",
    "dic['key']  #we have extracted value by putting the key"
   ]
  },
  {
   "cell_type": "code",
   "execution_count": 5,
   "id": "03c54693-e9dc-4b1e-b6a9-eadfe38e65b1",
   "metadata": {},
   "outputs": [],
   "source": [
    "d1 = {'name':'deepankar','mail_id':'deepankar@gmail.com','class':'python' , 'name':'karan'} #creating a new dictionary"
   ]
  },
  {
   "cell_type": "code",
   "execution_count": 6,
   "id": "fe6559f0-3607-44a3-9d74-5564ef66f52f",
   "metadata": {},
   "outputs": [
    {
     "data": {
      "text/plain": [
       "'karan'"
      ]
     },
     "execution_count": 6,
     "metadata": {},
     "output_type": "execute_result"
    }
   ],
   "source": [
    "#now we have new dictionary d1 and in the dictionary their are two keys name\n",
    "#lets extract the value of name and see what we get\n",
    "\n",
    "d1['name'] "
   ]
  },
  {
   "cell_type": "raw",
   "id": "9cfaf0d8-dee5-4b4b-a4d9-3cf666eeeed1",
   "metadata": {},
   "source": [
    "we got value of name karan instead of deepankar. this happened because their are two keys of the same name and the new key overwrited the data"
   ]
  },
  {
   "cell_type": "code",
   "execution_count": 7,
   "id": "4f8b4fcd-fc51-4ef6-b602-962f1feeea34",
   "metadata": {},
   "outputs": [],
   "source": [
    "#creating a new list\n",
    "\n",
    "d2 = {'name':'deepankar','places':['delhi','jaipur','mumbai']} #we can put multiple values but key should be unique"
   ]
  },
  {
   "cell_type": "code",
   "execution_count": 8,
   "id": "dbb3fca6-7575-4d06-bb55-8dc1a883d52b",
   "metadata": {},
   "outputs": [
    {
     "data": {
      "text/plain": [
       "{'name': 'deepankar', 'places': ['delhi', 'jaipur', 'mumbai']}"
      ]
     },
     "execution_count": 8,
     "metadata": {},
     "output_type": "execute_result"
    }
   ],
   "source": [
    "d2 "
   ]
  },
  {
   "cell_type": "code",
   "execution_count": 9,
   "id": "48a7da95-9e62-47d2-8707-4071af00fce6",
   "metadata": {},
   "outputs": [
    {
     "data": {
      "text/plain": [
       "dict_keys(['name', 'places'])"
      ]
     },
     "execution_count": 9,
     "metadata": {},
     "output_type": "execute_result"
    }
   ],
   "source": [
    "#to iterate keys from dictionary\n",
    "d2.keys()"
   ]
  },
  {
   "cell_type": "code",
   "execution_count": 10,
   "id": "8d474b46-6ef9-488d-83bd-e6c81dd2411e",
   "metadata": {},
   "outputs": [
    {
     "data": {
      "text/plain": [
       "dict_values(['deepankar', ['delhi', 'jaipur', 'mumbai']])"
      ]
     },
     "execution_count": 10,
     "metadata": {},
     "output_type": "execute_result"
    }
   ],
   "source": [
    "#to iterate values from dictionary\n",
    "d2.values()"
   ]
  },
  {
   "cell_type": "code",
   "execution_count": 11,
   "id": "3b8cd54d-86d0-48e8-831f-09543d8af8b1",
   "metadata": {},
   "outputs": [
    {
     "data": {
      "text/plain": [
       "dict_items([('name', 'deepankar'), ('places', ['delhi', 'jaipur', 'mumbai'])])"
      ]
     },
     "execution_count": 11,
     "metadata": {},
     "output_type": "execute_result"
    }
   ],
   "source": [
    "#to iterate both keys and values from dictionary\n",
    "d2.items()"
   ]
  },
  {
   "cell_type": "raw",
   "id": "bc1c6708-2d3c-4237-b60e-a2f9bf84306e",
   "metadata": {},
   "source": [
    "to know functions which we can use with a dictionary : use dictname + . + tab"
   ]
  },
  {
   "cell_type": "raw",
   "id": "0536bef1-1824-4126-8b6a-b329865d2b53",
   "metadata": {},
   "source": [
    "Conditional Statements In Python\n",
    "In programming languages, most of the time in large projects we have to control the flow of execution of our program and we want to execute some set of statements only if the given condition is satisfied, and a different set of statements when it’s not satisfied.\n"
   ]
  },
  {
   "cell_type": "code",
   "execution_count": 13,
   "id": "339861f9-3a9d-4d8c-884a-1de4979cbf58",
   "metadata": {},
   "outputs": [
    {
     "name": "stdin",
     "output_type": "stream",
     "text": [
      "enter your marks 90\n"
     ]
    },
    {
     "name": "stdout",
     "output_type": "stream",
     "text": [
      "you scored grade a\n"
     ]
    }
   ],
   "source": [
    "#if statement : lets understand this with an example\n",
    "\n",
    "marks = int(input('enter your marks')) #taking input of marks\n",
    "\n",
    "if marks >= 90: #passing an arguemnt\n",
    "    print('you scored grade a') #printing the result\n",
    "else:\n",
    "    print('you scored grade b')"
   ]
  },
  {
   "cell_type": "code",
   "execution_count": 21,
   "id": "a64ce127-9e74-4b8a-a675-e088958953c5",
   "metadata": {
    "jupyter": {
     "source_hidden": true
    },
    "tags": []
   },
   "outputs": [
    {
     "name": "stdin",
     "output_type": "stream",
     "text": [
      "enter your marks 65\n"
     ]
    },
    {
     "name": "stdout",
     "output_type": "stream",
     "text": [
      "you scored grade B\n"
     ]
    }
   ],
   "source": [
    "#lets take another example\n",
    "\n",
    "marks = int(input('enter your marks'))\n",
    "\n",
    "if marks >= 90:\n",
    "    print('you scored grade A')\n",
    "elif marks >= 60 and marks < 90:\n",
    "    print('you scored grade B')\n",
    "elif marks >= 50 and marks < 60:\n",
    "    print('you scored grade c')\n",
    "else:\n",
    "    print('you scored grade D')"
   ]
  },
  {
   "cell_type": "code",
   "execution_count": 14,
   "id": "db4d0b29-b17d-4a34-8ba2-bee4c6f9fcff",
   "metadata": {},
   "outputs": [
    {
     "name": "stdin",
     "output_type": "stream",
     "text": [
      "enter your city delhi\n"
     ]
    },
    {
     "name": "stdout",
     "output_type": "stream",
     "text": [
      "monument is Red Fort \n"
     ]
    }
   ],
   "source": [
    "#lets take another example\n",
    "\n",
    "city = input('enter your city')\n",
    "\n",
    "if city == 'delhi':\n",
    "    print('monument is Red Fort ')\n",
    "elif city == 'jaipur':\n",
    "    print('monument is jai mahal')\n",
    "elif city ==  'agra':\n",
    "    print('monument is Taj mahal')\n",
    "else:\n",
    "    print('no monument ')"
   ]
  },
  {
   "cell_type": "raw",
   "id": "bef8a492-d183-4ac7-89b8-7c4c726b7dfe",
   "metadata": {},
   "source": [
    "LOOP"
   ]
  },
  {
   "cell_type": "code",
   "execution_count": 30,
   "id": "744cfc45-b28d-48ed-b9a3-d6f5c957505e",
   "metadata": {},
   "outputs": [],
   "source": [
    "l = [1,2,3,4,5,6,7,8,9] #creating a list"
   ]
  },
  {
   "cell_type": "code",
   "execution_count": 33,
   "id": "142f0d3e-fc94-4004-9129-aa02e8c26721",
   "metadata": {},
   "outputs": [
    {
     "name": "stdout",
     "output_type": "stream",
     "text": [
      "1\n",
      "2\n",
      "3\n",
      "4\n",
      "5\n",
      "6\n",
      "7\n",
      "8\n",
      "9\n"
     ]
    },
    {
     "data": {
      "text/plain": [
       "[1, 2, 3, 4, 5, 6, 7, 8, 9]"
      ]
     },
     "execution_count": 33,
     "metadata": {},
     "output_type": "execute_result"
    }
   ],
   "source": [
    "l1 = []\n",
    "for i in l:\n",
    "    print(i)\n",
    "    l1.append(i)\n",
    "l1    #running a simple loop to iterate the items from the old list to the new list l1 "
   ]
  },
  {
   "cell_type": "code",
   "execution_count": 35,
   "id": "c85fbf35-6d98-4b7e-acfc-07e2818e59b9",
   "metadata": {},
   "outputs": [],
   "source": [
    "l2 = ['deepankar','python','linkedin','loop'] #creating anothe list as l2"
   ]
  },
  {
   "cell_type": "code",
   "execution_count": 40,
   "id": "55e3e9df-07fc-45a6-b920-bd24dc5347f1",
   "metadata": {},
   "outputs": [
    {
     "name": "stdout",
     "output_type": "stream",
     "text": [
      "deepankar\n",
      "python\n",
      "linkedin\n",
      "loop\n"
     ]
    },
    {
     "data": {
      "text/plain": [
       "['DEEPANKAR', 'PYTHON', 'LINKEDIN', 'LOOP']"
      ]
     },
     "execution_count": 40,
     "metadata": {},
     "output_type": "execute_result"
    }
   ],
   "source": [
    "l3 = []  #citerating the items of l2 and appending it to the new list l3 \n",
    "for i in l2:\n",
    "    print(i)\n",
    "    l3.append(i.upper())\n",
    "l3    "
   ]
  },
  {
   "cell_type": "code",
   "execution_count": 41,
   "id": "b4721169-6e41-4139-81bf-f34143839349",
   "metadata": {},
   "outputs": [],
   "source": [
    "l4 = [1,2,3,4,55.6,'name','hello','list',45.5,2.3]"
   ]
  },
  {
   "cell_type": "code",
   "execution_count": 47,
   "id": "3b513b86-5187-468a-881b-aa0797d507af",
   "metadata": {},
   "outputs": [
    {
     "name": "stdout",
     "output_type": "stream",
     "text": [
      "[1, 2, 3, 4, 55.6, 45.5, 2.3]\n",
      "['name', 'hello', 'list']\n"
     ]
    }
   ],
   "source": [
    "l5_num = [] #creating an empty list to iterate only integer items from l4\n",
    "l6_str = [] #creating an empty list to iterate only string items from l4\n",
    "\n",
    "for i in l4:\n",
    "    if type(i) == int or type(i) == float: #running a loop and giving it a condition\n",
    "        l5_num.append(i) #appending the iterated items the list l5_num\n",
    "    else:\n",
    "        l6_str.append(i) #appending the str items in the list l6_str\n",
    "print(l5_num)\n",
    "print(l6_str)  "
   ]
  },
  {
   "cell_type": "code",
   "execution_count": null,
   "id": "99400e3f-c6f2-4561-95a3-d3dc0bc60fe3",
   "metadata": {},
   "outputs": [],
   "source": []
  }
 ],
 "metadata": {
  "kernelspec": {
   "display_name": "Python 3 (ipykernel)",
   "language": "python",
   "name": "python3"
  },
  "language_info": {
   "codemirror_mode": {
    "name": "ipython",
    "version": 3
   },
   "file_extension": ".py",
   "mimetype": "text/x-python",
   "name": "python",
   "nbconvert_exporter": "python",
   "pygments_lexer": "ipython3",
   "version": "3.10.8"
  }
 },
 "nbformat": 4,
 "nbformat_minor": 5
}
