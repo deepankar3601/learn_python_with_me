{
 "cells": [
  {
   "cell_type": "code",
   "execution_count": 1,
   "id": "55092629-17e1-495c-8659-89979c36ecbf",
   "metadata": {},
   "outputs": [],
   "source": [
    "#Deepankar Chaudhary\n",
    "#Topics Covered : Abstract Class And Decorators\n",
    "#Abstract Class:  n abstract class is a class, but not one you can create objects from directly. Its purpose is to define how other classes should look like, i.e. what methods and properties they are expected to have."
   ]
  },
  {
   "cell_type": "code",
   "execution_count": 55,
   "id": "69e4d175-d490-4275-8983-424c5b6b0dd4",
   "metadata": {},
   "outputs": [],
   "source": [
    "#lets undesrtand abstract class with an example\n",
    "\n",
    "import abc #importing abstract class\n",
    "\n",
    "class name: #making a class name\n",
    "    \n",
    "    @abc.abstractmethod #decorating function \n",
    "    def student_name(self): #making a function\n",
    "        pass"
   ]
  },
  {
   "cell_type": "code",
   "execution_count": 56,
   "id": "89cd4fd4-cd2f-4aab-bafd-eaae24322ec1",
   "metadata": {},
   "outputs": [],
   "source": [
    "class deepankar(name): #creating a class as deepankar and inheriting the class name in  it\n",
    "    \n",
    "    def student_name(self): #making a function\n",
    "        return 'my name is deepankar' # passing a statement\n",
    "    \n",
    "class karan(name):\n",
    "    \n",
    "    def student_name(self):\n",
    "        return 'my name is karan'\n",
    "\n",
    "class rohit(name):\n",
    "    \n",
    "    def student_name(self):\n",
    "        return 'my name is rohit'"
   ]
  },
  {
   "cell_type": "code",
   "execution_count": 65,
   "id": "54a2d048-9328-453e-bb90-faf03a711902",
   "metadata": {},
   "outputs": [],
   "source": [
    "#now lets create an object of class deepankar as d\n",
    "d = deepankar()"
   ]
  },
  {
   "cell_type": "code",
   "execution_count": 59,
   "id": "c7fbd112-78c5-4890-925f-c7d2ca1e131a",
   "metadata": {},
   "outputs": [
    {
     "data": {
      "text/plain": [
       "'my name is deepankar'"
      ]
     },
     "execution_count": 59,
     "metadata": {},
     "output_type": "execute_result"
    }
   ],
   "source": [
    "d.student_name()"
   ]
  },
  {
   "cell_type": "code",
   "execution_count": 62,
   "id": "47d1f4ba-6640-4c0d-ab37-6c1b4f8d8d99",
   "metadata": {},
   "outputs": [],
   "source": [
    "k = karan()"
   ]
  },
  {
   "cell_type": "code",
   "execution_count": 61,
   "id": "f80b9b00-b234-453e-8d7d-2fcd4f9b49bf",
   "metadata": {},
   "outputs": [
    {
     "data": {
      "text/plain": [
       "'my name is karan'"
      ]
     },
     "execution_count": 61,
     "metadata": {},
     "output_type": "execute_result"
    }
   ],
   "source": [
    "k.student_name()"
   ]
  },
  {
   "cell_type": "code",
   "execution_count": 63,
   "id": "3e36d650-de1e-4316-9c4a-4c1a05f66c96",
   "metadata": {},
   "outputs": [],
   "source": [
    "r = rohit()"
   ]
  },
  {
   "cell_type": "code",
   "execution_count": 64,
   "id": "cabbce11-d7ff-428e-ab34-f06cc626cf61",
   "metadata": {},
   "outputs": [
    {
     "data": {
      "text/plain": [
       "'my name is rohit'"
      ]
     },
     "execution_count": 64,
     "metadata": {},
     "output_type": "execute_result"
    }
   ],
   "source": [
    "r.student_name()"
   ]
  },
  {
   "cell_type": "code",
   "execution_count": 66,
   "id": "6730d751-c195-4fca-bc50-a70db8feb27b",
   "metadata": {},
   "outputs": [],
   "source": [
    "#Decorators : A decorator is a design pattern in Python that allows a user to add new functionality to an existing object without modifying its structure. Decorators are usually called before the definition of a function you want to decorate."
   ]
  },
  {
   "cell_type": "code",
   "execution_count": 99,
   "id": "94819112-7b05-4f88-a8f5-f0ff9efb3ee3",
   "metadata": {},
   "outputs": [],
   "source": [
    "#lets take an example of decorator\n",
    "\n",
    "def deco(self): #creating a function named deco and passing self inside it\n",
    "    def inner_deco(): #creating a function inside function\n",
    "        print('calculation started')  #printing a msg\n",
    "        self() #passinf self ie. the function which we will give\n",
    "        print('calculation ended') #printing another msg\n",
    "        \n",
    "    return inner_deco   #returning inner deco"
   ]
  },
  {
   "cell_type": "code",
   "execution_count": 100,
   "id": "28f64530-e40c-4529-9883-f3d949771dc0",
   "metadata": {},
   "outputs": [],
   "source": [
    "@deco #decorating deco\n",
    "def calculation(): #making function\n",
    "    print('4 + 5 = ' , 4+5)"
   ]
  },
  {
   "cell_type": "code",
   "execution_count": 101,
   "id": "6d70e1ff-f303-4c37-be24-7e294040e58b",
   "metadata": {},
   "outputs": [
    {
     "name": "stdout",
     "output_type": "stream",
     "text": [
      "calculation started\n",
      "4 + 5 =  9\n",
      "calculation ended\n"
     ]
    }
   ],
   "source": [
    "calculation() #passing function calculation"
   ]
  },
  {
   "cell_type": "code",
   "execution_count": 102,
   "id": "ab2853e0-cdeb-4f8f-85ca-63f57638e60c",
   "metadata": {},
   "outputs": [],
   "source": [
    "#lets take another example and add time instead of msg\n",
    "\n",
    "import time\n",
    "\n",
    "def timer(self):\n",
    "    def inner_timer():\n",
    "        start = time.time()\n",
    "        self()\n",
    "        end = time.time()\n",
    "        print('time taken to execute this function is' , end - start )\n",
    "\n",
    "    return inner_timer()        "
   ]
  },
  {
   "cell_type": "code",
   "execution_count": 107,
   "id": "4b5616b6-815b-43b2-b7a8-54b149c0297b",
   "metadata": {},
   "outputs": [
    {
     "name": "stdout",
     "output_type": "stream",
     "text": [
      "time taken to execute this function is 2.0364296436309814\n"
     ]
    }
   ],
   "source": [
    "@timer\n",
    "def loop():\n",
    "    for i in range(100000000):\n",
    "        pass"
   ]
  },
  {
   "cell_type": "code",
   "execution_count": null,
   "id": "fbf6d471-2215-4380-8f57-77d8c935fcfc",
   "metadata": {},
   "outputs": [],
   "source": []
  }
 ],
 "metadata": {
  "kernelspec": {
   "display_name": "Python 3 (ipykernel)",
   "language": "python",
   "name": "python3"
  },
  "language_info": {
   "codemirror_mode": {
    "name": "ipython",
    "version": 3
   },
   "file_extension": ".py",
   "mimetype": "text/x-python",
   "name": "python",
   "nbconvert_exporter": "python",
   "pygments_lexer": "ipython3",
   "version": "3.10.8"
  }
 },
 "nbformat": 4,
 "nbformat_minor": 5
}
