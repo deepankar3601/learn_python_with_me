{
 "cells": [
  {
   "cell_type": "code",
   "execution_count": 2,
   "id": "be137a41-b9dc-49b6-967b-6aaf76f0934b",
   "metadata": {},
   "outputs": [],
   "source": [
    "#Deepankar Chaqudhary\n",
    "#Topics covered\n",
    "#Python Functions : A function is a block of code which only runs when it is called.You can pass data, known as parameters, into a function.\n",
    "#A function can return data as a result."
   ]
  },
  {
   "cell_type": "code",
   "execution_count": 5,
   "id": "f1806cc8-e3c9-4ff9-9248-87f95897d3ba",
   "metadata": {},
   "outputs": [],
   "source": [
    "#In Python a function is defined using the def keyword:\n",
    "def test(): #creating a function\n",
    "    print('this is my first function')"
   ]
  },
  {
   "cell_type": "code",
   "execution_count": 6,
   "id": "0a427a88-2c14-4f77-9bee-9f316f3e5c12",
   "metadata": {},
   "outputs": [
    {
     "name": "stdout",
     "output_type": "stream",
     "text": [
      "this is my first function\n"
     ]
    }
   ],
   "source": [
    "test() #calling the function"
   ]
  },
  {
   "cell_type": "code",
   "execution_count": 10,
   "id": "41e64747-3dd9-409c-867f-8045bbd9769d",
   "metadata": {},
   "outputs": [],
   "source": [
    "def test1(): #making ba func with return\n",
    "    return 'this is a return function'"
   ]
  },
  {
   "cell_type": "code",
   "execution_count": 11,
   "id": "969e984b-4a80-449d-9f1d-08809c87593e",
   "metadata": {},
   "outputs": [
    {
     "data": {
      "text/plain": [
       "'this is a return function'"
      ]
     },
     "execution_count": 11,
     "metadata": {},
     "output_type": "execute_result"
    }
   ],
   "source": [
    "test1()  #calling the function"
   ]
  },
  {
   "cell_type": "code",
   "execution_count": 15,
   "id": "a762ace6-3495-4f2e-b396-f39a99a3163e",
   "metadata": {},
   "outputs": [
    {
     "data": {
      "text/plain": [
       "('this is a return function new string', 56, [1, 2, 3, 4, 5])"
      ]
     },
     "execution_count": 15,
     "metadata": {},
     "output_type": "execute_result"
    }
   ],
   "source": [
    "test1() + ' new string' ,56,[1,2,3,4,5]          #we can add elements in return function"
   ]
  },
  {
   "cell_type": "code",
   "execution_count": 22,
   "id": "e70c4ece-05b1-46be-be64-268c71b719d7",
   "metadata": {},
   "outputs": [],
   "source": [
    "def test3(): #creating a new function\n",
    "    return 'python',56,23.2,[1,2,3,4]"
   ]
  },
  {
   "cell_type": "code",
   "execution_count": 23,
   "id": "2d37a4c8-be65-4bf4-924f-50080cc8db35",
   "metadata": {},
   "outputs": [],
   "source": [
    "a,b,c,d = test3() #indexing the elements of function with a b c d"
   ]
  },
  {
   "cell_type": "code",
   "execution_count": 26,
   "id": "19e33ebe-bd5b-4ef8-a08f-194419cf9db8",
   "metadata": {},
   "outputs": [
    {
     "data": {
      "text/plain": [
       "('python', 56, 23.2, [1, 2, 3, 4])"
      ]
     },
     "execution_count": 26,
     "metadata": {},
     "output_type": "execute_result"
    }
   ],
   "source": [
    "a,b,c,d #calling all the variables we made for function test3"
   ]
  },
  {
   "cell_type": "code",
   "execution_count": 29,
   "id": "55405bfd-020e-4f9d-bf76-beea4527579f",
   "metadata": {},
   "outputs": [],
   "source": [
    "def test4(): #making new function of simple calculation\n",
    "    a = 2+2 * 3\n",
    "    return a"
   ]
  },
  {
   "cell_type": "code",
   "execution_count": 30,
   "id": "5f4cce8d-d3fc-4c39-afd2-13bb31ffa2b4",
   "metadata": {},
   "outputs": [
    {
     "data": {
      "text/plain": [
       "8"
      ]
     },
     "execution_count": 30,
     "metadata": {},
     "output_type": "execute_result"
    }
   ],
   "source": [
    "test4() #caling the function"
   ]
  },
  {
   "cell_type": "code",
   "execution_count": 33,
   "id": "fbb443fb-56fe-4521-9911-a1a1319263bb",
   "metadata": {},
   "outputs": [],
   "source": [
    "def test5(a,b,c): #creating a function for calculation and taking the arguements given by user\n",
    "    d = a + b * c \n",
    "    return d"
   ]
  },
  {
   "cell_type": "code",
   "execution_count": 35,
   "id": "8b3e0e87-abc2-47a5-8a94-7504a7ee08e1",
   "metadata": {},
   "outputs": [
    {
     "data": {
      "text/plain": [
       "12"
      ]
     },
     "execution_count": 35,
     "metadata": {},
     "output_type": "execute_result"
    }
   ],
   "source": [
    "test5(4,4,2) #calling test5 and giving values for calculation"
   ]
  },
  {
   "cell_type": "code",
   "execution_count": 37,
   "id": "b23f6347-48a5-48e3-8a83-f6ec990ef7aa",
   "metadata": {},
   "outputs": [],
   "source": [
    "def test7(a , b): #function\n",
    "    return a + b #giving arguement"
   ]
  },
  {
   "cell_type": "code",
   "execution_count": 41,
   "id": "35c3b5d3-bc04-4799-bb98-12c87fd61991",
   "metadata": {},
   "outputs": [
    {
     "data": {
      "text/plain": [
       "'deepankar chaudhary'"
      ]
     },
     "execution_count": 41,
     "metadata": {},
     "output_type": "execute_result"
    }
   ],
   "source": [
    "test7('deepankar' , ' chaudhary') #calling the function test7 and giving value\n",
    "#it concatenated string in this case"
   ]
  },
  {
   "cell_type": "code",
   "execution_count": 42,
   "id": "40f7bb1e-1a09-4e42-b6fe-d37557e3bd71",
   "metadata": {},
   "outputs": [
    {
     "data": {
      "text/plain": [
       "10"
      ]
     },
     "execution_count": 42,
     "metadata": {},
     "output_type": "execute_result"
    }
   ],
   "source": [
    "test7(5,5) #it summed the int value in this case"
   ]
  },
  {
   "cell_type": "code",
   "execution_count": 56,
   "id": "06848548-95b3-449d-83b1-8e007276b966",
   "metadata": {},
   "outputs": [],
   "source": [
    "l = [1,2,3,4,'python','pwskill',[7,8,9,4,88]] #creating a list"
   ]
  },
  {
   "cell_type": "code",
   "execution_count": 110,
   "id": "54eace68-dba9-4c16-86e6-27a82e02ebc9",
   "metadata": {},
   "outputs": [],
   "source": [
    "#now lets try to iterate all the integer values from the list through function\n",
    "def test9(a): #creating a function\n",
    "    \n",
    "    \n",
    "    a = [] #creating an empty list\n",
    "    for i in l: #running for loop\n",
    "        if type(i) == list: #giving condition if items is a list\n",
    "            for j in i : #running a for loop again to iterate the items from the list \n",
    "                a.append(j)  #appending the items in list j\n",
    "        else: \n",
    "            if type(i) == int or type(i) ==  float: #giving condition\n",
    "                a.append(i) #appending i in list a\n",
    "    return a     "
   ]
  },
  {
   "cell_type": "code",
   "execution_count": 111,
   "id": "58c1c860-c444-44fd-b5e2-d507d6b16094",
   "metadata": {},
   "outputs": [
    {
     "data": {
      "text/plain": [
       "[1, 2, 3, 4, 7, 8, 9, 4, 88]"
      ]
     },
     "execution_count": 111,
     "metadata": {},
     "output_type": "execute_result"
    }
   ],
   "source": [
    "test9(a)"
   ]
  },
  {
   "cell_type": "code",
   "execution_count": 113,
   "id": "7c30579f-114d-45c5-a9c0-6fa93a1cfa9d",
   "metadata": {},
   "outputs": [],
   "source": [
    "#writing a docstring for function\n",
    "\n",
    "def test10():\n",
    "    \n",
    "    \"\"\"  this is just an example of making a docstring in a function   \"\"\""
   ]
  },
  {
   "cell_type": "code",
   "execution_count": 116,
   "id": "7bdfe148-82d9-4552-a46a-69707b26f26c",
   "metadata": {},
   "outputs": [],
   "source": [
    "#Args : args is just short for arguments i.e. the values that the function or method expects to have passed to it. \n",
    "\n",
    "def test11(*args): #creating ba function args is used to give infinite number of arguements \n",
    "    return args"
   ]
  },
  {
   "cell_type": "code",
   "execution_count": 117,
   "id": "29f7961d-a65c-4d24-9cdc-185b57a76b27",
   "metadata": {},
   "outputs": [
    {
     "data": {
      "text/plain": [
       "(1, 2, 3, 4, 5, 6, 7, 8, 9)"
      ]
     },
     "execution_count": 117,
     "metadata": {},
     "output_type": "execute_result"
    }
   ],
   "source": [
    "test11(1,2,3,4,5,6,7,8,9) #it will give data back in tuple form and args is not a keyword"
   ]
  },
  {
   "cell_type": "code",
   "execution_count": 121,
   "id": "d8cd4487-1538-4a5b-bd54-6f6481d5c24d",
   "metadata": {},
   "outputs": [],
   "source": [
    "def test12(*args , a):\n",
    "    return args , a"
   ]
  },
  {
   "cell_type": "code",
   "execution_count": 122,
   "id": "01235296-bf8d-4c2f-9f57-469305105a6e",
   "metadata": {},
   "outputs": [
    {
     "data": {
      "text/plain": [
       "((12, 3, 4, 5, 9), 'hello')"
      ]
     },
     "execution_count": 122,
     "metadata": {},
     "output_type": "execute_result"
    }
   ],
   "source": [
    "test12(12,3,4,5,9 , a = 'hello')"
   ]
  },
  {
   "cell_type": "code",
   "execution_count": 125,
   "id": "f74f8246-fead-49a3-899a-7d8d03b38b67",
   "metadata": {},
   "outputs": [],
   "source": [
    "def test13(c,d,a = 4 , b = 23):\n",
    "    return a,b,c,d"
   ]
  },
  {
   "cell_type": "code",
   "execution_count": 126,
   "id": "73057a3c-910e-4891-b6b6-495a8521d009",
   "metadata": {},
   "outputs": [
    {
     "data": {
      "text/plain": [
       "(4, 23, 'this is c', ' this is d')"
      ]
     },
     "execution_count": 126,
     "metadata": {},
     "output_type": "execute_result"
    }
   ],
   "source": [
    "test13( 'this is c' ,' this is d')"
   ]
  },
  {
   "cell_type": "code",
   "execution_count": 127,
   "id": "91fa189f-6176-4084-b1dc-d2111b3ce3ef",
   "metadata": {},
   "outputs": [],
   "source": [
    "#Kwargs : **kwargs stands for keyword arguments. The only difference from args is that it uses keywords and returns the values in the form of a dictionary."
   ]
  },
  {
   "cell_type": "code",
   "execution_count": 128,
   "id": "606e460f-f43b-4ab0-83b3-22a42976c9ef",
   "metadata": {},
   "outputs": [],
   "source": [
    "def test14(**kwargs): \n",
    "    return kwargs"
   ]
  },
  {
   "cell_type": "code",
   "execution_count": 131,
   "id": "4c52007e-b5e4-46f6-9d6e-3d2ee05b3c60",
   "metadata": {},
   "outputs": [
    {
     "data": {
      "text/plain": [
       "{'a': [1, 2, 3, 4, 5], 'b': 'hello world', 'c': 22}"
      ]
     },
     "execution_count": 131,
     "metadata": {},
     "output_type": "execute_result"
    }
   ],
   "source": [
    "test14(a = [1,2,3,4,5] , b = 'hello world' , c = 22) #it will give data abck in key and value pair"
   ]
  },
  {
   "cell_type": "code",
   "execution_count": 1,
   "id": "b51439c5-4cc5-4d51-9e52-412949f3c23b",
   "metadata": {},
   "outputs": [],
   "source": [
    "x =float(2.0)"
   ]
  },
  {
   "cell_type": "code",
   "execution_count": 2,
   "id": "322274cc-25b9-4165-962e-e510bf9a1faa",
   "metadata": {},
   "outputs": [
    {
     "data": {
      "text/plain": [
       "2.0"
      ]
     },
     "execution_count": 2,
     "metadata": {},
     "output_type": "execute_result"
    }
   ],
   "source": [
    "x"
   ]
  },
  {
   "cell_type": "code",
   "execution_count": 3,
   "id": "ef224ffa-edb2-451d-8a63-d52b20dd4ccb",
   "metadata": {},
   "outputs": [
    {
     "data": {
      "text/plain": [
       "'hello'"
      ]
     },
     "execution_count": 3,
     "metadata": {},
     "output_type": "execute_result"
    }
   ],
   "source": [
    "'hello'"
   ]
  },
  {
   "cell_type": "code",
   "execution_count": null,
   "id": "0acf8943-1795-455b-ac3f-98dfdef89805",
   "metadata": {},
   "outputs": [],
   "source": []
  }
 ],
 "metadata": {
  "kernelspec": {
   "display_name": "Python 3 (ipykernel)",
   "language": "python",
   "name": "python3"
  },
  "language_info": {
   "codemirror_mode": {
    "name": "ipython",
    "version": 3
   },
   "file_extension": ".py",
   "mimetype": "text/x-python",
   "name": "python",
   "nbconvert_exporter": "python",
   "pygments_lexer": "ipython3",
   "version": "3.10.8"
  }
 },
 "nbformat": 4,
 "nbformat_minor": 5
}
